{
 "cells": [
  {
   "cell_type": "code",
   "execution_count": 14,
   "id": "b412c931",
   "metadata": {},
   "outputs": [],
   "source": [
    "import numpy as np\n",
    "import matplotlib.pyplot as plt\n",
    "import pandas as pd\n",
    "import scipy"
   ]
  },
  {
   "cell_type": "code",
   "execution_count": 18,
   "id": "c85587c8",
   "metadata": {},
   "outputs": [
    {
     "name": "stdout",
     "output_type": "stream",
     "text": [
      "        p0=0.1  p0=0.08  p0=0.06  p0=0.04  p0=0.02  p0=0\n",
      "100.0      238      240      243      250      258   279\n",
      "200.0      288      290      292      297      300   360\n",
      "300.0      370      372      374      379      382   443\n",
      "400.0      452      453      456      461      465   486\n",
      "500.0      534      536      538      543      546   567\n",
      "600.0      615      617      619      624      628   649\n",
      "700.0      697      699      702      706      709   731\n",
      "800.0      778      780      783      787      791   811\n",
      "900.0      859      861      864      869      872   893\n",
      "1000.0     941      943      946      950      954   975\n",
      "1100.0    1022     1025     1027     1032     1034  1055\n",
      "1200.0    1103     1106     1108     1113     1116  1138\n",
      "1300.0    1184     1187     1189     1194     1197  1219\n",
      "1400.0    1266     1268     1270     1275     1278  1300\n",
      "1500.0    1347     1349     1351     1356     1359  1381\n",
      "1600.0    1445     1446     1447     1448     1452  1462\n",
      "1700.0    1509     1511     1514     1519     1521  1543\n",
      "1800.0    1590     1592     1595     1599     1602  1624\n",
      "1900.0    1671     1673     1676     1681     1683  1705\n"
     ]
    }
   ],
   "source": [
    "columns = ['p0=0.1','p0=0.08','p0=0.06','p0=0.04','p0=0.02','p0=0']\n",
    "index = np.linspace(100,1900,19)\n",
    "data_t_1000 = [[238,240,243,250,258,279],\n",
    "        [288,290,292,297,300,360],\n",
    "        [370,372,374,379,382,443],\n",
    "        [452,453,456,461,465,486],\n",
    "        [534,536,538,543,546,567],\n",
    "        [615,617,619,624,628,649],\n",
    "        [697,699,702,706,709,731],\n",
    "        [778,780,783,787,791,811],\n",
    "        [859,861,864,869,872,893],\n",
    "        [941,943,946,950,954,975],\n",
    "        [1022,1025,1027,1032,1034,1055],\n",
    "        [1103,1106,1108,1113,1116,1138],\n",
    "        [1184,1187,1189,1194,1197,1219],\n",
    "        [1266,1268,1270,1275,1278,1300],\n",
    "        [1347,1349,1351,1356,1359,1381],\n",
    "        [1445,1446,1447,1448,1452,1462],\n",
    "        [1509,1511,1514,1519,1521,1543],\n",
    "        [1590,1592,1595,1599,1602,1624],\n",
    "        [1671,1673,1676,1681,1683,1705],]\n",
    "#        [1,1,1,1,1,1]]\n",
    "df_t_1000 = pd.DataFrame(data_t_1000,columns = columns,index=index)\n",
    "print(df_t_1000)"
   ]
  },
  {
   "cell_type": "code",
   "execution_count": null,
   "id": "707e291e",
   "metadata": {
    "scrolled": false
   },
   "outputs": [],
   "source": [
    "plt.plot(index,df_t_1000['p0=0'])\n",
    "scipy.stats.linregress(index,df_t_1000['p0=0'])\n",
    "#plt.plot(index,0.7974*index+182)"
   ]
  },
  {
   "cell_type": "code",
   "execution_count": 46,
   "id": "ecb48e51",
   "metadata": {},
   "outputs": [
    {
     "name": "stdout",
     "output_type": "stream",
     "text": [
      "[0.9998640066515329, 0.9998678646082501, 0.999869082244349, 0.9998661052661851, 0.9998275999427904, 0.999715904493415]\n",
      "[0.810298245614035, 0.8104035087719298, 0.8103508771929824, 0.809561403508772, 0.8083684210526315, 0.7974736842105263]\n",
      "[132.2807017543861, 134.2280701754387, 136.70175438596505, 142.17543859649106, 146.73684210526312, 182.57894736842104]\n"
     ]
    }
   ],
   "source": [
    "r_vals=[]\n",
    "for column in df_t_1000:\n",
    "    r_vals.append(scipy.stats.linregress(index,df_t_1000[column]))\n",
    "print([i.rvalue for i in r_vals])\n",
    "print([i.slope for i in r_vals])\n",
    "print([i.intercept for i in r_vals])"
   ]
  },
  {
   "cell_type": "markdown",
   "id": "d0fef75a",
   "metadata": {},
   "source": [
    "Questo mostra che ncp_prior come funzione di N e p_0 se fissato p_0 sarà lineare (tuttavia i coefficienti di linearità dipendono da p_0 ovviamente)"
   ]
  },
  {
   "cell_type": "code",
   "execution_count": null,
   "id": "318a844c",
   "metadata": {
    "scrolled": false
   },
   "outputs": [],
   "source": [
    "for gamma in index:\n",
    "    plt.title(f'gamma={gamma}')\n",
    "    plt.plot(np.transpose(np.array([0.1,0.08,0.06,0.04,0.02,0])),np.transpose(df_t_1000.loc[[gamma]]))\n",
    "    plt.show()"
   ]
  },
  {
   "cell_type": "code",
   "execution_count": 36,
   "id": "5f881d14",
   "metadata": {
    "scrolled": true
   },
   "outputs": [
    {
     "name": "stdout",
     "output_type": "stream",
     "text": [
      "[-0.9226697586006988, -0.7663260302383612, -0.7648402594770225, -0.8900629786337255, -0.8823338597681841, -0.8871300679484163, -0.8790708367496718, -0.8952320124754231, -0.8951447420106303, -0.889592609874362, -0.8864795003985774, -0.886304778053801, -0.886304778053801, -0.8768507315197221, -0.8768507315197221, -0.8745983115158439, -0.8844344466197668, -0.8790708367496718, -0.8844344466197668]\n"
     ]
    }
   ],
   "source": [
    "r_vals=[]\n",
    "for i in index:\n",
    "    r_vals.append(scipy.stats.linregress(np.array([0.1,0.08,0.06,0.04,0.02,0]),df_t_1000.loc[[i]]).rvalue)\n",
    "print(r_vals)"
   ]
  },
  {
   "cell_type": "code",
   "execution_count": 49,
   "id": "29676246",
   "metadata": {
    "scrolled": true
   },
   "outputs": [
    {
     "data": {
      "text/plain": [
       "LinregressResult(slope=0.12800000000000034, intercept=0.7974000000000001, rvalue=1.0, pvalue=0.0, stderr=0.0, intercept_stderr=0.0)"
      ]
     },
     "execution_count": 49,
     "metadata": {},
     "output_type": "execute_result"
    }
   ],
   "source": [
    "p0=np.array([0,0.1])\n",
    "c_p0 = np.array([182,132])\n",
    "a_p0 = np.array([0.7974,0.8102])\n",
    "scipy.stats.linregress(p0,a_p0)"
   ]
  },
  {
   "cell_type": "code",
   "execution_count": 67,
   "id": "1aefe328",
   "metadata": {
    "scrolled": true
   },
   "outputs": [
    {
     "name": "stdout",
     "output_type": "stream",
     "text": [
      "`xtol` termination condition is satisfied.\n",
      "Function evaluations 42, initial cost 1.8604e+09, final cost 2.0292e+06, first-order optimality 7.76e+20.\n",
      "`ftol` termination condition is satisfied.\n",
      "Function evaluations 224, initial cost 1.8604e+09, final cost 1.4090e+06, first-order optimality 1.26e+18.\n"
     ]
    }
   ],
   "source": [
    "import scipy\n",
    "import numpy as np\n",
    "\n",
    "def model_pow_frac(x,u):\n",
    "    return x[0]*(u**2+x[1]*u)/(u**2+x[2]*u+x[3])\n",
    "def model_pow2(x,u):\n",
    "    return np.divide(x[0]*u**3+x[1]*u**2+x[2]*u+x[3],u**3+x[4]*u**2+x[5]*u+x[6])\n",
    "\n",
    "def fun_pow_frac(x,u,y):\n",
    "    return model_pow_frac(x,u) - y\n",
    "def fun_pow2(x,u,y):\n",
    "    return model_pow2(x,u) - y\n",
    "\n",
    "def jac_pow_frac(x, u, y):\n",
    "    J = np.empty((u.size, x.size))\n",
    "    J[:, 0] = (u**2+x[1]*u)/(u**2+x[2]*u+x[3])\n",
    "    J[:, 1] = (x[0]*u)/(u**2+x[2]*u+x[3])\n",
    "    J[:, 2] = -x[0]*(u**2+x[1]*u)*u/((u**2+x[2]*u+x[3])**2)\n",
    "    J[:, 3] = -x[0]*(u**2+x[1]*u)/((u**2+x[2]*u+x[3])**2)\n",
    "    return J\n",
    "def jac_pow2(x, u, y):\n",
    "    J = np.empty((u.size, x.size))\n",
    "    J[:, 0] = np.divide(u**3,u**3+x[4]*u**2+x[5]*u+x[6])\n",
    "    J[:, 1] = np.divide(u**2,u**3+x[4]*u**2+x[5]*u+x[6])\n",
    "    J[:, 2] = np.divide(u,u**3+x[4]*u**2+x[5]*u+x[6])\n",
    "    J[:, 3] = np.divide(1,u**3+x[4]*u**2+x[5]*u+x[6])\n",
    "    J[:, 4] = -np.divide((x[0]*u**3+x[1]*u**2+x[2]*u+x[3])*u**2,(u**3+x[4]*u**2+x[5]*u+x[6])**2)\n",
    "    J[:, 5] = -np.divide((x[0]*u**3+x[1]*u**2+x[2]*u+x[3])*u,(u**3+x[4]*u**2+x[5]*u+x[6])**2)\n",
    "    J[:, 6] = -np.divide((x[0]*u**3+x[1]*u**2+x[2]*u+x[3]),(u**3+x[4]*u**2+x[5]*u+x[6])**2)\n",
    "    return J\n",
    "\n",
    "u = np.arange(140000,2670000,25450) #media degli N\n",
    "y = np.array([\n",
    "    300,700,1050,1300,1550,1800,2050,2300,2400,2600,\n",
    "    2950,3000,3200,3300,3700,3800,4000,4150,4200,4400,\n",
    "    4550,4700,4800,5000,5100,5300,5250,5400,5600,5700,\n",
    "    5900,5900,6100,6300,6300,6350,6350,6500,6500,6700,\n",
    "    6600,6650,6650,6650,6700,6750,6750,6750,6750,6850,\n",
    "    6850,6850,6900,6900,6900,7000,7000,7000,7000,7000,\n",
    "    7000,7000,7000,7000,7000,7000,7000,7000,7000,7000,\n",
    "    7000,7000,7000,7000,7000,7000,7000,7000,7000,7000,\n",
    "    7000,7000,7000,7000,7000,7000,7000,7000,7000,7000,\n",
    "    7000,7000,7000,7000,7000,7000,7000,7000,7000,7000  ])#ncp_prior per ottimizzarlo\n",
    "\n",
    "x_0_pow_frac = np.array([1,1,1,1])\n",
    "x_0_pow2 = np.array([1,1,1,1,1,1,1])\n",
    "res_pow_frac = scipy.optimize.least_squares(fun_pow_frac, x_0_pow_frac, jac=jac_pow_frac, bounds=(0, 1e20), args=(u, y), verbose=1)\n",
    "res_pow2 = scipy.optimize.least_squares(fun_pow2, x_0_pow2, jac=jac_pow2, bounds=(-1e20, 1e20), args=(u, y), verbose=1)"
   ]
  },
  {
   "cell_type": "code",
   "execution_count": 59,
   "id": "1c2c9ee5",
   "metadata": {},
   "outputs": [
    {
     "name": "stdout",
     "output_type": "stream",
     "text": [
      "[4.96410616e+03 2.41636813e+06 3.55995027e+05 1.48055084e+12]\n",
      "[ 7.09902870e+03 -6.29735501e+07  2.47170653e+13 -6.85948955e+07\n",
      " -1.12139198e+05  2.74181065e+11  1.15222487e+12]\n"
     ]
    }
   ],
   "source": [
    "print(res_pow_frac.x)\n",
    "print(res_pow2.x)"
   ]
  },
  {
   "cell_type": "code",
   "execution_count": 72,
   "id": "50d892d7",
   "metadata": {
    "scrolled": false
   },
   "outputs": [
    {
     "name": "stdout",
     "output_type": "stream",
     "text": [
      "625.2921448473121\n"
     ]
    },
    {
     "data": {
      "image/png": "[encoded data removed]",
      "text/plain": [
       "<Figure size 640x480 with 1 Axes>"
      ]
     },
     "metadata": {},
     "output_type": "display_data"
    }
   ],
   "source": [
    "import matplotlib.pyplot as plt\n",
    "\n",
    "u_test = np.linspace(1e5,1e7,1000)                           #valori test di N\n",
    "y_test_pow_frac = model_pow_frac(res_pow_frac.x, u_test)\n",
    "y_test_pow2 = model_pow2(res_pow2.x, u_test)\n",
    "print(model_pow2(res_pow2.x,150000))\n",
    "plt.plot(u, y, 'o', markersize=4, label='data')\n",
    "#plt.plot(u_test, y_test_pow_frac, label='fitted pow_frac model')\n",
    "plt.plot(u_test, y_test_pow2, label='fitted pow2 model')\n",
    "plt.xlabel(\"N\")\n",
    "plt.ylabel(\"ncp_prior\")\n",
    "plt.legend(loc='lower right')\n",
    "plt.show()"
   ]
  },
  {
   "cell_type": "code",
   "execution_count": 71,
   "id": "bbbff1f9",
   "metadata": {},
   "outputs": [
    {
     "name": "stdout",
     "output_type": "stream",
     "text": [
      "456.9357334427741\n"
     ]
    },
    {
     "data": {
      "image/png": "[encoded data removed]",
      "text/plain": [
       "<Figure size 640x480 with 1 Axes>"
      ]
     },
     "metadata": {},
     "output_type": "display_data"
    }
   ],
   "source": [
    "from scipy.interpolate import CubicSpline, PchipInterpolator, Akima1DInterpolator\n",
    "import matplotlib.pyplot as plt\n",
    "\n",
    "plt.plot(u_test, CubicSpline(u, y)(u_test), '--', label='spline')\n",
    "#plt.plot(u_test, Akima1DInterpolator(u, y)(u_test), '-', label='Akima1D')\n",
    "#plt.plot(u_test, PchipInterpolator(u, y)(u_test), '-', label='pchip')\n",
    "#plt.plot(u, y, 'o')\n",
    "print(CubicSpline(u, y)(150000))\n",
    "plt.legend()\n",
    "plt.show()"
   ]
  }
 ],
 "metadata": {
  "kernelspec": {
   "display_name": "Python 3 (ipykernel)",
   "language": "python",
   "name": "python3"
  },
  "language_info": {
   "codemirror_mode": {
    "name": "ipython",
    "version": 3
   },
   "file_extension": ".py",
   "mimetype": "text/x-python",
   "name": "python",
   "nbconvert_exporter": "python",
   "pygments_lexer": "ipython3",
   "version": "3.10.13"
  }
 },
 "nbformat": 4,
 "nbformat_minor": 5
}
