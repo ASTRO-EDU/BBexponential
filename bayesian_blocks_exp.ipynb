{
 "cells": [
  {
   "cell_type": "code",
   "execution_count": 25,
   "id": "8646b54d",
   "metadata": {},
   "outputs": [],
   "source": [
    "import astropy\n",
    "import numpy as np\n",
    "import matplotlib.pyplot as plt\n",
    "import time\n",
    "from astropy.stats import FitnessFunc, bayesian_blocks"
   ]
  },
  {
   "cell_type": "markdown",
   "id": "2d9cd9a1",
   "metadata": {},
   "source": [
    "In astropy the function `bayesian_blocks` is implemented such that one can either pass a string for the type of data, a fitness function that is an instance of the class `FitnessFunc` or a subclass of `FitnessFunc`.\n",
    "To implement bayesian blocks with exponential functions we just create a subclass of `FitnessFunc` that implements exponential bounds. This way using the algorithm will be as easy as\n",
    "```python\n",
    "edges = bayesian_blocks(t, x, fitness=ExponentialBlocks_Events, p0=0.01)\n",
    "```"
   ]
  },
  {
   "cell_type": "code",
   "execution_count": 30,
   "id": "76f0d00f",
   "metadata": {},
   "outputs": [],
   "source": [
    "class ExponentialBlocks_Events(FitnessFunc):\n",
    "    r\"\"\" Bayesian Blocks Fitness for binned or unbinned events with piecewise exponential function over the blocks\n",
    "    \n",
    "    Parameters\n",
    "    ----------\n",
    "    p0 : float, optional\n",
    "        False alarm probability, used to compute the prior on\n",
    "        :math:`N_{\\rm blocks}` (see eq. 21 of Scargle 2013). For the Events\n",
    "        type data, ``p0`` does not seem to be an accurate representation of the\n",
    "        actual false alarm probability. If you are using this fitness function\n",
    "        for a triggering type condition, it is recommended that you run\n",
    "        statistical trials on signal-free noise to determine an appropriate\n",
    "        value of ``gamma`` or ``ncp_prior`` to use for a desired false alarm\n",
    "        rate.\n",
    "    gamma : float, optional\n",
    "        If specified, then use this gamma to compute the general prior form,\n",
    "        :math:`p \\sim {\\tt gamma}^{N_{\\rm blocks}}`.  If gamma is specified, p0\n",
    "        is ignored.\n",
    "    ncp_prior : float, optional\n",
    "        If specified, use the value of ``ncp_prior`` to compute the prior as\n",
    "        above, using the definition :math:`{\\tt ncp\\_prior} = -\\ln({\\tt\n",
    "        gamma})`.\n",
    "        If ``ncp_prior`` is specified, ``gamma`` and ``p0`` is ignored.\n",
    "    \"\"\"\n",
    "    \n",
    "    def compute_a(self,N_k, T_k, a_0=1):\n",
    "        \"\"\"Computes as instructed by eq. C116 in Scargle (2013).\n",
    "        \n",
    "        Parameters\n",
    "        ---------\n",
    "        N_k : array-like\n",
    "            number of events in blocks in receding order (from last to first)\n",
    "        T_k : array-like, float\n",
    "            length of the blocks in decreasing order\n",
    "        ---------\n",
    "        \n",
    "        Returns\n",
    "        ---------\n",
    "        a : array-like\n",
    "            optimal parameter for each block identified by T_k\n",
    "        \"\"\"\n",
    "        #initialise the value of a as an array\n",
    "        if type(a_0)==int:\n",
    "            a = a_0 * np.ones_like(T_k,dtype=float)\n",
    "        elif type(a_0)==np.ndarray:\n",
    "            a=a_0\n",
    "        else:\n",
    "            raise ValueError()\n",
    "        #implementation of Newton's method to find the optimal a\n",
    "        i=1\n",
    "        f=1\n",
    "        while i<100 and np.any(f>1e-10): #TODO implementare una maniera più intelligente di terminare Newton\n",
    "            #Q_k defined as in C114 of Scargle (2013)\n",
    "            Q_k = np.exp(-a*T_k)*(1/(1-np.exp(-a*T_k)))\n",
    "            #S_k defined as in C110 of Scargle (2013)\n",
    "            S_k = -(1/N_k)*np.flip(np.cumsum(T_k))\n",
    "            #f defined as in C109 of Scargle (2013)\n",
    "            f = (1/a)-T_k*Q_k+S_k\n",
    "            #f_prime defined as in C113 of Scargle (2013)\n",
    "            f_prime = -np.power(1/a,2)+T_k*T_k*Q_k*(1+Q_k)\n",
    "            a -= np.divide(f,f_prime)\n",
    "            i+=1\n",
    "        return a\n",
    "    \n",
    "    def fitness(self, N_k, T_k):\n",
    "        # the log (to have additivity of the blocks) of C105 from Scargle (2013)\n",
    "        #print(N_k,T_k)\n",
    "        a = self.compute_a(N_k,T_k)\n",
    "        return np.log(N_k*np.log(np.divide(a*N_k,1-np.exp(-a*T_k)))-a*np.flip(np.cumsum(T_k))-N_k)"
   ]
  },
  {
   "cell_type": "code",
   "execution_count": 31,
   "id": "23a23d00",
   "metadata": {},
   "outputs": [
    {
     "name": "stdout",
     "output_type": "stream",
     "text": [
      "[ 2.  2.  2.  1.  1.  1.  3.  1.  1.  3.  3.  4.  2.  2.  3.  1.  3.  2.\n",
      "  1.  2.  2.  6.  3.  1.  2.  1.  3.  2.  3.  2.  5.  2.  3.  4.  4.  4.\n",
      "  6.  5.  5.  4.  6.  5.  3.  6.  3.  5.  6.  3.  6.  5.  6.  4.  7.  6.\n",
      "  9.  6.  6.  7.  6.  7.  8.  6. 10.  7.  6.  8. 10. 11. 10.  9. 13. 11.\n",
      " 10. 10. 13. 14. 13. 16. 14. 12. 13. 15. 15. 17. 19. 18. 18. 19. 19. 21.\n",
      " 21. 22. 22. 22. 21. 22. 27. 25. 27. 27.]\n",
      "[0.         0.05       0.08333333 3.3       ]\n",
      "time needed for execution was 0.17398405075073242 seconds\n"
     ]
    },
    {
     "name": "stderr",
     "output_type": "stream",
     "text": [
      "/tmp/ipykernel_2318/1456578015.py:69: RuntimeWarning: overflow encountered in exp\n",
      "  return np.log(N_k*np.log(np.divide(a*N_k,1-np.exp(-a*T_k)))-a*np.flip(np.cumsum(T_k))-N_k)\n",
      "/tmp/ipykernel_2318/1456578015.py:69: RuntimeWarning: divide by zero encountered in log\n",
      "  return np.log(N_k*np.log(np.divide(a*N_k,1-np.exp(-a*T_k)))-a*np.flip(np.cumsum(T_k))-N_k)\n",
      "/tmp/ipykernel_2318/1456578015.py:69: RuntimeWarning: invalid value encountered in log\n",
      "  return np.log(N_k*np.log(np.divide(a*N_k,1-np.exp(-a*T_k)))-a*np.flip(np.cumsum(T_k))-N_k)\n",
      "/tmp/ipykernel_2318/1456578015.py:54: RuntimeWarning: overflow encountered in exp\n",
      "  Q_k = np.exp(-a*T_k)*(1/(1-np.exp(-a*T_k)))\n",
      "/tmp/ipykernel_2318/1456578015.py:54: RuntimeWarning: invalid value encountered in multiply\n",
      "  Q_k = np.exp(-a*T_k)*(1/(1-np.exp(-a*T_k)))\n"
     ]
    }
   ],
   "source": [
    "N_k=np.array([100,50,100])\n",
    "T_k=np.array([6,5,4])\n",
    "##############\n",
    "t=np.arange(0,100)/30\n",
    "x=np.abs(np.floor(np.exp(t))+np.random.binomial(10,0.5,100)-5)+1\n",
    "#print(t)\n",
    "print(x)\n",
    "t_start = time.time()\n",
    "print(bayesian_blocks(t,x,fitness=ExponentialBlocks_Events))\n",
    "print(f'time needed for execution was {time.time()-t_start} seconds')"
   ]
  },
  {
   "cell_type": "code",
   "execution_count": 32,
   "id": "47932da0",
   "metadata": {
    "scrolled": false
   },
   "outputs": [
    {
     "name": "stderr",
     "output_type": "stream",
     "text": [
      "/tmp/ipykernel_2318/1456578015.py:69: RuntimeWarning: overflow encountered in exp\n",
      "  return np.log(N_k*np.log(np.divide(a*N_k,1-np.exp(-a*T_k)))-a*np.flip(np.cumsum(T_k))-N_k)\n",
      "/tmp/ipykernel_2318/1456578015.py:69: RuntimeWarning: divide by zero encountered in log\n",
      "  return np.log(N_k*np.log(np.divide(a*N_k,1-np.exp(-a*T_k)))-a*np.flip(np.cumsum(T_k))-N_k)\n",
      "/tmp/ipykernel_2318/1456578015.py:69: RuntimeWarning: invalid value encountered in log\n",
      "  return np.log(N_k*np.log(np.divide(a*N_k,1-np.exp(-a*T_k)))-a*np.flip(np.cumsum(T_k))-N_k)\n",
      "/tmp/ipykernel_2318/1456578015.py:54: RuntimeWarning: overflow encountered in exp\n",
      "  Q_k = np.exp(-a*T_k)*(1/(1-np.exp(-a*T_k)))\n",
      "/tmp/ipykernel_2318/1456578015.py:54: RuntimeWarning: invalid value encountered in multiply\n",
      "  Q_k = np.exp(-a*T_k)*(1/(1-np.exp(-a*T_k)))\n"
     ]
    },
    {
     "data": {
      "image/png": "[encoded data removed]",
      "text/plain": [
       "<Figure size 640x480 with 2 Axes>"
      ]
     },
     "metadata": {},
     "output_type": "display_data"
    }
   ],
   "source": [
    "fig, axs = plt.subplots(1, 2, sharey=True, tight_layout=True)\n",
    "axs[0].step(t, x)\n",
    "axs[1].step(t, x)\n",
    "xcoords = bayesian_blocks(t,x,fitness=ExponentialBlocks_Events)\n",
    "for xc in xcoords:\n",
    "    axs[0].axvline(x=xc, color='grey', alpha=0.3)\n",
    "xcoords = bayesian_blocks(t,x,fitness='events')\n",
    "for xc in xcoords:\n",
    "    axs[1].axvline(x=xc, color='grey', alpha=0.3)"
   ]
  },
  {
   "cell_type": "code",
   "execution_count": 5,
   "id": "ecef715d",
   "metadata": {},
   "outputs": [
    {
     "data": {
      "image/png": "[encoded data removed]",
      "text/plain": [
       "<Figure size 640x480 with 2 Axes>"
      ]
     },
     "metadata": {},
     "output_type": "display_data"
    }
   ],
   "source": [
    "t=np.arange(0,100)/30\n",
    "x=800+np.random.binomial(10,0.3,100)\n",
    "fig, axs = plt.subplots(1, 2, sharey=True, tight_layout=True)\n",
    "axs[0].step(t, x)\n",
    "axs[1].step(t, x)\n",
    "xcoords = bayesian_blocks(t,x,fitness=ExponentialBlocks_Events)\n",
    "for xc in xcoords:\n",
    "    axs[0].axvline(x=xc, color='grey', alpha=0.3)\n",
    "xcoords = bayesian_blocks(t,x,fitness='events')\n",
    "for xc in xcoords:\n",
    "    axs[1].axvline(x=xc, color='grey', alpha=0.3)"
   ]
  },
  {
   "cell_type": "code",
   "execution_count": null,
   "id": "8c8221ec",
   "metadata": {},
   "outputs": [],
   "source": []
  }
 ],
 "metadata": {
  "kernelspec": {
   "display_name": "Python 3 (ipykernel)",
   "language": "python",
   "name": "python3"
  },
  "language_info": {
   "codemirror_mode": {
    "name": "ipython",
    "version": 3
   },
   "file_extension": ".py",
   "mimetype": "text/x-python",
   "name": "python",
   "nbconvert_exporter": "python",
   "pygments_lexer": "ipython3",
   "version": "3.10.13"
  }
 },
 "nbformat": 4,
 "nbformat_minor": 5
}
