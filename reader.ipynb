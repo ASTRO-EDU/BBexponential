{
 "cells": [
  {
   "cell_type": "code",
   "execution_count": 22,
   "id": "99158ed8",
   "metadata": {},
   "outputs": [],
   "source": [
    "import tables\n",
    "import os\n",
    "from astropy.stats import bayesian_blocks\n",
    "from bb_exponential import ExponentialBlocks_Events\n",
    "import matplotlib.pyplot as plt\n",
    "from multiprocessing import Pool\n",
    "from itertools import repeat\n",
    "import numpy as np\n",
    "\n",
    "filename = '/home/tirocinio/Codice/tirocinio/Dati/DL0/acquisizione_2023_01_27/rpg0/dl0/wf_runId_00293_configId_00000_2023-01-27T14_32_51.090204.h5'\n",
    "\n",
    "class Reader:\n",
    "    def get_data_list(self,filename,startIndex=0,endIndex=-1):\n",
    "        '''get data from h5 file starting by startIndex and ending at endIndex\n",
    "        '''\n",
    "        data_list = []\n",
    "        with tables.open_file(filename,mode='r') as h5file:\n",
    "            group = h5file.get_node('/waveforms')\n",
    "            if endIndex == -1:\n",
    "                endIndex = group._g_getnchildren()\n",
    "            for i,data in enumerate(group):\n",
    "                if i >= startIndex:\n",
    "                    arr = data[:,-1]\n",
    "                    data_list.append(arr)\n",
    "                if i>=endIndex-1:\n",
    "                    break\n",
    "            return data_list\n",
    "    def _make_graph(self,t,x,actual_outdir,name):\n",
    "        plt.step(t, x)\n",
    "        flag = False\n",
    "        N = sum(x)\n",
    "        ncp_prior = ExponentialBlocks_Events().p0_prior(N)\n",
    "        while not flag:  #se ci sono errori di tipo 'troppi blocchi' faccio un ricalcolo usando un ncp_prior più alto\n",
    "            xcoords = bayesian_blocks(t,x,fitness=ExponentialBlocks_Events,ncp_prior=ncp_prior)\n",
    "            blocks_lengths = xcoords[1:]-xcoords[:-1]    \n",
    "            if np.count_nonzero(blocks_lengths == 2)>2: #se ci sono più blocchi di lunghezza 2, allora c'è un errore di tipo 'troppi blocchi'\n",
    "                ncp_prior = ncp_prior + 100\n",
    "            else:\n",
    "                flag = True\n",
    "        for xc in xcoords:\n",
    "            plt.axvline(x=xc, color='grey', alpha=0.3)\n",
    "        for i in range(len(xcoords)-1):\n",
    "            edge_l = xcoords[i]\n",
    "            edge_r = xcoords[i+1]\n",
    "            params = ExponentialBlocks_Events(ncp_fun=(lambda N: ExponentialBlocks_Events().p0_prior(N)-100)).get_parameters(edge_l,edge_r,t,x)\n",
    "            a = params['a']\n",
    "            gamma = params['gamma']\n",
    "            plot_t = np.linspace(edge_l,edge_r,1000)\n",
    "            plot_x = gamma * np.exp(a*(plot_t - edge_r))\n",
    "            plt.plot(plot_t,plot_x)\n",
    "        plt.figtext(0.5,0.01,f'subgraph area: {sum(x)}')\n",
    "        plt.savefig(actual_outdir+'/'+name)\n",
    "        plt.clf()\n",
    "    def process_file(self,filename,startIndex=0,endIndex=-1,outdir='outdir',num_workers=1):\n",
    "        '''\n",
    "        filename: str, path to a h5 file containing binned data\n",
    "        startIndex: int, starting index of data to process\n",
    "        endIndex: int, index of last data to process\n",
    "        outdir: str, path of the folder where a folder named like filename will be created to contain\n",
    "                     the graphs of processed data\n",
    "        num_workes: int, number of threads to use to speed up processing time\n",
    "        \n",
    "        processes the file via bb_exponential,returns nothing and as a side effect creates a folder \n",
    "        with the same name as the filename inside outdir with all the graphs of the processed data\n",
    "        '''\n",
    "        actual_outdir=os.path.join(outdir,filename.split('/')[-1])\n",
    "        if not os.path.exists(actual_outdir):\n",
    "            os.makedirs(actual_outdir)\n",
    "        data = self.get_data_list(filename,startIndex=startIndex,endIndex=endIndex)\n",
    "        t = np.arange(0,1000)\n",
    "        x_s = [x[1000:2000] for x in data]\n",
    "        zipped_data = zip(repeat(t),x_s,repeat(actual_outdir),[str(i)+'.png' for i in np.arange(startIndex,endIndex)])\n",
    "        with Pool(num_workers) as p:\n",
    "            p.starmap(self._make_graph,zipped_data)\n",
    "def create_directory(directory_path):\n",
    "    if not os.path.exists(directory_path):\n",
    "        os.makedirs(directory_path)\n",
    "        print(f\"La directory '{directory_path}' è stata creata.\")"
   ]
  },
  {
   "cell_type": "code",
   "execution_count": 2,
   "id": "a1fffcf7",
   "metadata": {},
   "outputs": [],
   "source": [
    "reader = Reader()\n",
    "data = reader.get_data_list(filename,0,10)"
   ]
  },
  {
   "cell_type": "code",
   "execution_count": 23,
   "id": "bc67f013",
   "metadata": {},
   "outputs": [
    {
     "name": "stderr",
     "output_type": "stream",
     "text": [
      "/home/tirocinio/Codice/tirocinio/BBexponential/bb_exponential.py:69: RuntimeWarning: overflow encountered in exp\n",
      "  return N_k*(np.log((a*N_k)/(1-np.exp(-a*T_k)))+a*S_k-1)\n",
      "/home/tirocinio/Codice/tirocinio/BBexponential/bb_exponential.py:69: RuntimeWarning: divide by zero encountered in log\n",
      "  return N_k*(np.log((a*N_k)/(1-np.exp(-a*T_k)))+a*S_k-1)\n",
      "/home/tirocinio/Codice/tirocinio/BBexponential/bb_exponential.py:69: RuntimeWarning: overflow encountered in exp\n",
      "  return N_k*(np.log((a*N_k)/(1-np.exp(-a*T_k)))+a*S_k-1)\n",
      "/home/tirocinio/Codice/tirocinio/BBexponential/bb_exponential.py:69: RuntimeWarning: divide by zero encountered in log\n",
      "  return N_k*(np.log((a*N_k)/(1-np.exp(-a*T_k)))+a*S_k-1)\n",
      "/nix/store/6jkzp4k9flx42l3ka9n4zyp7x05gcgri-python3-3.10.13-env/lib/python3.10/site-packages/scipy/optimize/_zeros_py.py:467: RuntimeWarning: some failed to converge after 50 iterations\n",
      "  warnings.warn(msg, RuntimeWarning)\n",
      "/nix/store/6jkzp4k9flx42l3ka9n4zyp7x05gcgri-python3-3.10.13-env/lib/python3.10/site-packages/scipy/optimize/_zeros_py.py:467: RuntimeWarning: some failed to converge after 50 iterations\n",
      "  warnings.warn(msg, RuntimeWarning)\n"
     ]
    }
   ],
   "source": [
    "Reader().process_file(filename,1377,1379,'outdir3',3)"
   ]
  },
  {
   "cell_type": "code",
   "execution_count": 11,
   "id": "55416ed9",
   "metadata": {},
   "outputs": [
    {
     "name": "stdout",
     "output_type": "stream",
     "text": [
      "[0 1 2 3 4 5 6 7 8 9]\n"
     ]
    },
    {
     "data": {
      "text/plain": [
       "10"
      ]
     },
     "execution_count": 11,
     "metadata": {},
     "output_type": "execute_result"
    }
   ],
   "source": [
    "len(data)"
   ]
  },
  {
   "cell_type": "code",
   "execution_count": 7,
   "id": "e15f2ebd",
   "metadata": {
    "scrolled": false
   },
   "outputs": [
    {
     "name": "stdout",
     "output_type": "stream",
     "text": [
      "[131 131 130 ... 137 131 131]\n"
     ]
    }
   ],
   "source": [
    "print(data[9])"
   ]
  },
  {
   "cell_type": "code",
   "execution_count": 5,
   "id": "4faba186",
   "metadata": {
    "scrolled": false
   },
   "outputs": [
    {
     "data": {
      "image/png": "[encoded data removed]",
      "text/plain": [
       "<Figure size 640x480 with 5 Axes>"
      ]
     },
     "metadata": {},
     "output_type": "display_data"
    }
   ],
   "source": [
    "import matplotlib.pyplot as plt\n",
    "fig, axs = plt.subplots(1, 5, sharey=True, tight_layout=True)\n",
    "for i in range(5):\n",
    "    #print(len(data[i]))\n",
    "    axs[i].plot(data[i])"
   ]
  },
  {
   "cell_type": "code",
   "execution_count": 11,
   "id": "675d202b",
   "metadata": {
    "scrolled": false
   },
   "outputs": [
    {
     "name": "stdout",
     "output_type": "stream",
     "text": [
      "1259742\n",
      "Tempo di Calcolo: 16.216758012771606\n",
      "Estremi: [  0.  195.5 524.5 999. ]\n",
      "Blocco 0: a=0.0011002899883276666,gamma=152.13474962553795\n",
      "Blocco 1: a=-0.00881400772607588,gamma=551.6230623375317\n",
      "Blocco 2: a=-0.0025940880570829604,gamma=169.44929433087003\n"
     ]
    },
    {
     "data": {
      "image/png": "[encoded data removed]",
      "text/plain": [
       "<Figure size 640x480 with 1 Axes>"
      ]
     },
     "metadata": {},
     "output_type": "display_data"
    }
   ],
   "source": [
    "from astropy.stats import Events, bayesian_blocks\n",
    "import numpy as np\n",
    "from bb_exponential import ExponentialBlocks_Events, test_bb_exp\n",
    "t=np.arange(0,1000)\n",
    "x=data[37][1000:2000]\n",
    "print(sum(x))\n",
    "test_bb_exp(t,x,ExponentialBlocks_Events)"
   ]
  },
  {
   "cell_type": "code",
   "execution_count": 7,
   "id": "a8aaf2a2",
   "metadata": {},
   "outputs": [],
   "source": [
    "from astropy.stats import Events, bayesian_blocks\n",
    "import numpy as np\n",
    "from bb_exponential import ExponentialBlocks_Events, test_bb_exp"
   ]
  },
  {
   "cell_type": "code",
   "execution_count": 8,
   "id": "dc6c5ced",
   "metadata": {
    "scrolled": true
   },
   "outputs": [],
   "source": [
    "if False:\n",
    "    t=np.arange(0,1000)\n",
    "    for i in range(0,200):\n",
    "        x=data[i][1000:2000]\n",
    "        test_bb_exp(t,x,ExponentialBlocks_Events,save = True,name=f'outdir/wf_runId_00293_configId_00000_2023-01-27T14_32_51_090204_N_{sum(x)}_datanum_{i}.png')"
   ]
  },
  {
   "cell_type": "code",
   "execution_count": 9,
   "id": "15aa50bf",
   "metadata": {},
   "outputs": [],
   "source": [
    "N_list = [sum(data[i][1000:2000]) for i in range(len(data))]\n",
    "estr_inf = min(N_list)\n",
    "passo = (max(N_list)-min(N_list))*(1/100)\n",
    "a = [[data[i] for i in range(len(N_list)) if estr_inf+n*passo<=N_list[i]<=estr_inf+(n+1)*passo] for n in range(100)]"
   ]
  },
  {
   "cell_type": "code",
   "execution_count": 10,
   "id": "bd848444",
   "metadata": {
    "scrolled": false
   },
   "outputs": [
    {
     "name": "stdout",
     "output_type": "stream",
     "text": [
      "131254\n",
      "25450.850000000002\n",
      "100\n",
      "[6013, 2172, 747, 368, 243, 89, 63, 32, 22, 8, 12, 8, 11, 5, 9, 6, 9, 7, 5, 3, 7, 6, 6, 5, 9, 5, 2, 5, 2, 5, 9, 2, 6, 4, 4, 9, 3, 5, 3, 5, 6, 7, 6, 6, 7, 4, 2, 3, 0, 3, 0, 2, 2, 1, 2, 1, 0, 0, 2, 1, 0, 0, 1, 1, 1, 0, 1, 0, 1, 2, 0, 1, 0, 0, 0, 0, 0, 0, 0, 0, 0, 0, 0, 0, 0, 1, 0, 0, 0, 0, 0, 0, 0, 0, 0, 1, 0, 0, 0, 1]\n"
     ]
    }
   ],
   "source": [
    "print(estr_inf)\n",
    "print(passo)\n",
    "print(len(a))\n",
    "print([len(b) for b in a])"
   ]
  },
  {
   "cell_type": "code",
   "execution_count": null,
   "id": "6f226e9c",
   "metadata": {
    "scrolled": true
   },
   "outputs": [],
   "source": [
    "from random import randint\n",
    "t=np.arange(0,1000)\n",
    "#for i in range(0,len(a[4])):\n",
    "for i in range(100):\n",
    "    index = randint(0,9999)\n",
    "    print(index)\n",
    "    x=data[index][1000:2000]\n",
    "    print(sum(x))\n",
    "    test_bb_exp(t,x,ExponentialBlocks_Events)"
   ]
  },
  {
   "cell_type": "code",
   "execution_count": null,
   "id": "0f425185",
   "metadata": {},
   "outputs": [],
   "source": []
  }
 ],
 "metadata": {
  "kernelspec": {
   "display_name": "Python 3 (ipykernel)",
   "language": "python",
   "name": "python3"
  },
  "language_info": {
   "codemirror_mode": {
    "name": "ipython",
    "version": 3
   },
   "file_extension": ".py",
   "mimetype": "text/x-python",
   "name": "python",
   "nbconvert_exporter": "python",
   "pygments_lexer": "ipython3",
   "version": "3.10.13"
  }
 },
 "nbformat": 4,
 "nbformat_minor": 5
}
