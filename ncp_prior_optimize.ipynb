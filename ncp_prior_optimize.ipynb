{
 "cells": [
  {
   "cell_type": "code",
   "execution_count": 3,
   "id": "df709dbf",
   "metadata": {},
   "outputs": [
    {
     "name": "stderr",
     "output_type": "stream",
     "text": [
      "/nix/store/8qipyzpsb65dlribryvlbmfg9ah5b16x-python3-3.10.13-env/lib/python3.10/site-packages/tqdm/auto.py:22: TqdmWarning: IProgress not found. Please update jupyter and ipywidgets. See https://ipywidgets.readthedocs.io/en/stable/user_install.html\n",
      "  from .autonotebook import tqdm as notebook_tqdm\n"
     ]
    }
   ],
   "source": [
    "import numpy as np\n",
    "from bb_exponential import ExponentialBlocks_Events_Alt_2, test_bb_exp\n",
    "from astropy.stats import bayesian_blocks\n",
    "import matplotlib.pyplot as plt\n",
    "import pandas as pd\n",
    "from tqdm.auto import tqdm"
   ]
  },
  {
   "cell_type": "markdown",
   "id": "1661e243",
   "metadata": {},
   "source": [
    "Per ottimizzare la scelta di ncp_prior in funzione di N (sum(x)) e p_0 (false detection rate) si procede come da Scargle 2.7:\n",
    "0) si scelgono degli ncp_prior da testare\n",
    "1) costruzione di un generatore che mi generi dati provenienti da rumore che in media siano sum=N\n",
    "2) iterativamente si genera il rumore e si prova il fitting con dei valori di ncp_prior e si salva il numero di blocchi identificati in un array\n",
    "3) abbiamo così l'array che in posizione i,j ha il numero di blocchi identificati dall'algoritmo con il rumore generato al passo i e con j-esimo ncp_prior\n",
    "4) per ogni colonna dell'array calcoliamo p_0, ovvero (# casi con più blocchi identificati che 1)/(# casi totali)\n",
    "5) si sceglie l'ncp_prior più basso (così il metodo è più sensibile) tale che il p_0 associato sia minore del treshold scelto all'inizio (il p_0 di input)"
   ]
  },
  {
   "cell_type": "code",
   "execution_count": 4,
   "id": "6259f0f2",
   "metadata": {},
   "outputs": [],
   "source": [
    "def generator(t,gamma):\n",
    "    while True:\n",
    "        x = np.random.poisson(125,len(t))\n",
    "        idx = np.random.poisson(100)\n",
    "        y = np.concatenate([np.zeros(idx),np.floor(gamma*np.exp(-np.linspace(0,20,1000)))[:1000-idx]])\n",
    "        x=x+y\n",
    "        yield x"
   ]
  },
  {
   "cell_type": "code",
   "execution_count": 5,
   "id": "560722f7",
   "metadata": {},
   "outputs": [
    {
     "name": "stderr",
     "output_type": "stream",
     "text": [
      "/home/tirocinio/Codice/tirocinio/BBexponential/bb_exponential.py:253: RuntimeWarning: overflow encountered in exp\n",
      "  return N_k*(np.log((a*N_k)/(1-np.exp(-a*T_k)))+a*S_k-1)\n",
      "/home/tirocinio/Codice/tirocinio/BBexponential/bb_exponential.py:253: RuntimeWarning: divide by zero encountered in log\n",
      "  return N_k*(np.log((a*N_k)/(1-np.exp(-a*T_k)))+a*S_k-1)\n",
      "/nix/store/8qipyzpsb65dlribryvlbmfg9ah5b16x-python3-3.10.13-env/lib/python3.10/site-packages/scipy/optimize/_zeros_py.py:467: RuntimeWarning: some failed to converge after 50 iterations\n",
      "  warnings.warn(msg, RuntimeWarning)\n"
     ]
    },
    {
     "data": {
      "text/plain": [
       "array([  0. ,  89.5, 222.5, 999. ])"
      ]
     },
     "execution_count": 5,
     "metadata": {},
     "output_type": "execute_result"
    },
    {
     "data": {
      "image/png": "[encoded data removed]",
      "text/plain": [
       "<Figure size 640x480 with 1 Axes>"
      ]
     },
     "metadata": {},
     "output_type": "display_data"
    }
   ],
   "source": [
    "t = np.arange(1000)\n",
    "gen = generator(t,600)\n",
    "x = next(gen)\n",
    "plt.plot(x)\n",
    "bayesian_blocks(t,x,fitness=ExponentialBlocks_Events_Alt_2,ncp_prior=700)"
   ]
  },
  {
   "cell_type": "code",
   "execution_count": 5,
   "id": "f8c2616d",
   "metadata": {},
   "outputs": [],
   "source": [
    "def num_blocks(t,x,ncp_prior_list,fitness):\n",
    "    arr = np.zeros_like(ncp_prior_list)\n",
    "    for i in range(len(ncp_prior_list)):\n",
    "        edg = bayesian_blocks(t,x,fitness=fitness,ncp_prior=ncp_prior_list[i])\n",
    "        n_edges = len(edg)\n",
    "        n_blocks = n_edges - 1\n",
    "        arr[i] = n_blocks\n",
    "    return arr"
   ]
  },
  {
   "cell_type": "code",
   "execution_count": 6,
   "id": "74c8ceee",
   "metadata": {},
   "outputs": [],
   "source": [
    "def ncp_optimizer(t,gamma,ncp_prior_list,fitness,n_iter=10):\n",
    "    gen = generator(t,gamma)\n",
    "    arr = np.zeros((n_iter,len(ncp_prior_list)))\n",
    "    for i in tqdm(range(n_iter)):\n",
    "        x = next(gen)\n",
    "        arr[i] = num_blocks(t,x,ncp_prior_list,fitness)\n",
    "    arr[arr != 3] = 1\n",
    "    arr[arr == 3] = 0\n",
    "    mean_array = np.mean(arr,axis=0)\n",
    "    return mean_array\n",
    "    #tmp = np.where(mean_array < p_0)[0]\n",
    "    #if tmp.size == 0:\n",
    "    #    return None,mean_array\n",
    "    #opt_index = tmp[0]\n",
    "    #return ncp_prior_list[opt_index],mean_array"
   ]
  },
  {
   "cell_type": "code",
   "execution_count": 7,
   "id": "310bc0e6",
   "metadata": {
    "scrolled": true
   },
   "outputs": [
    {
     "name": "stderr",
     "output_type": "stream",
     "text": [
      "100%|███████████████████████████████████████████| 10/10 [02:19<00:00, 13.90s/it]\n"
     ]
    },
    {
     "data": {
      "text/plain": [
       "(1000.0, array([0., 0.]))"
      ]
     },
     "execution_count": 7,
     "metadata": {},
     "output_type": "execute_result"
    }
   ],
   "source": [
    "t=np.arange(500)\n",
    "gamma=600\n",
    "ncp_prior_list = np.linspace(1000,1100,2)\n",
    "#num_blocks(t,x,ncp_prior_list,fitness = ExponentialBlocks_Events_Alt_2)\n",
    "ncp_optimizer(t,gamma,ncp_prior_list,0.1,fitness = ExponentialBlocks_Events_Alt_2,n_iter=10)"
   ]
  },
  {
   "cell_type": "code",
   "execution_count": 7,
   "id": "9cae8cad",
   "metadata": {},
   "outputs": [
    {
     "name": "stdout",
     "output_type": "stream",
     "text": [
      "esecuzione con parametro gamma=200.0\n"
     ]
    },
    {
     "name": "stderr",
     "output_type": "stream",
     "text": [
      "  0%|                                                    | 0/50 [00:00<?, ?it/s]/home/tirocinio/Codice/tirocinio/BBexponential/bb_exponential.py:253: RuntimeWarning: overflow encountered in exp\n",
      "  return N_k*(np.log((a*N_k)/(1-np.exp(-a*T_k)))+a*S_k-1)\n",
      "/home/tirocinio/Codice/tirocinio/BBexponential/bb_exponential.py:253: RuntimeWarning: divide by zero encountered in log\n",
      "  return N_k*(np.log((a*N_k)/(1-np.exp(-a*T_k)))+a*S_k-1)\n",
      "/nix/store/8qipyzpsb65dlribryvlbmfg9ah5b16x-python3-3.10.13-env/lib/python3.10/site-packages/scipy/optimize/_zeros_py.py:467: RuntimeWarning: some failed to converge after 50 iterations\n",
      "  warnings.warn(msg, RuntimeWarning)\n",
      "100%|████████████████████████████████████████| 50/50 [2:02:01<00:00, 146.44s/it]\n"
     ]
    },
    {
     "name": "stdout",
     "output_type": "stream",
     "text": [
      "esecuzione con parametro gamma=294.7368421052632\n"
     ]
    },
    {
     "name": "stderr",
     "output_type": "stream",
     "text": [
      "  0%|                                                    | 0/50 [00:00<?, ?it/s]/home/tirocinio/Codice/tirocinio/BBexponential/bb_exponential.py:253: RuntimeWarning: overflow encountered in exp\n",
      "  return N_k*(np.log((a*N_k)/(1-np.exp(-a*T_k)))+a*S_k-1)\n",
      "/home/tirocinio/Codice/tirocinio/BBexponential/bb_exponential.py:253: RuntimeWarning: divide by zero encountered in log\n",
      "  return N_k*(np.log((a*N_k)/(1-np.exp(-a*T_k)))+a*S_k-1)\n",
      "/nix/store/8qipyzpsb65dlribryvlbmfg9ah5b16x-python3-3.10.13-env/lib/python3.10/site-packages/scipy/optimize/_zeros_py.py:467: RuntimeWarning: some failed to converge after 50 iterations\n",
      "  warnings.warn(msg, RuntimeWarning)\n",
      "100%|████████████████████████████████████████| 50/50 [2:01:54<00:00, 146.29s/it]\n"
     ]
    },
    {
     "name": "stdout",
     "output_type": "stream",
     "text": [
      "esecuzione con parametro gamma=389.47368421052636\n"
     ]
    },
    {
     "name": "stderr",
     "output_type": "stream",
     "text": [
      "  0%|                                                    | 0/50 [00:00<?, ?it/s]/home/tirocinio/Codice/tirocinio/BBexponential/bb_exponential.py:253: RuntimeWarning: overflow encountered in exp\n",
      "  return N_k*(np.log((a*N_k)/(1-np.exp(-a*T_k)))+a*S_k-1)\n",
      "/home/tirocinio/Codice/tirocinio/BBexponential/bb_exponential.py:253: RuntimeWarning: divide by zero encountered in log\n",
      "  return N_k*(np.log((a*N_k)/(1-np.exp(-a*T_k)))+a*S_k-1)\n",
      "/nix/store/8qipyzpsb65dlribryvlbmfg9ah5b16x-python3-3.10.13-env/lib/python3.10/site-packages/scipy/optimize/_zeros_py.py:467: RuntimeWarning: some failed to converge after 50 iterations\n",
      "  warnings.warn(msg, RuntimeWarning)\n",
      "  0%|                                                    | 0/50 [00:28<?, ?it/s]\n"
     ]
    },
    {
     "ename": "KeyboardInterrupt",
     "evalue": "",
     "output_type": "error",
     "traceback": [
      "\u001b[0;31m---------------------------------------------------------------------------\u001b[0m",
      "\u001b[0;31mKeyboardInterrupt\u001b[0m                         Traceback (most recent call last)",
      "Cell \u001b[0;32mIn[7], line 11\u001b[0m\n\u001b[1;32m      9\u001b[0m \u001b[38;5;28;01mfor\u001b[39;00m gamma \u001b[38;5;129;01min\u001b[39;00m gammas:\n\u001b[1;32m     10\u001b[0m     \u001b[38;5;28mprint\u001b[39m(\u001b[38;5;124mf\u001b[39m\u001b[38;5;124m'\u001b[39m\u001b[38;5;124mesecuzione con parametro gamma=\u001b[39m\u001b[38;5;132;01m{\u001b[39;00mgamma\u001b[38;5;132;01m}\u001b[39;00m\u001b[38;5;124m'\u001b[39m)\n\u001b[0;32m---> 11\u001b[0m     p_0_array \u001b[38;5;241m=\u001b[39m \u001b[43mncp_optimizer\u001b[49m\u001b[43m(\u001b[49m\u001b[43mt\u001b[49m\u001b[43m,\u001b[49m\u001b[43mgamma\u001b[49m\u001b[43m,\u001b[49m\u001b[43mncp_prior_list\u001b[49m\u001b[43m,\u001b[49m\u001b[43mfitness\u001b[49m\u001b[43m \u001b[49m\u001b[38;5;241;43m=\u001b[39;49m\u001b[43m \u001b[49m\u001b[43mExponentialBlocks_Events_Alt_2\u001b[49m\u001b[43m,\u001b[49m\u001b[43mn_iter\u001b[49m\u001b[38;5;241;43m=\u001b[39;49m\u001b[43mn_iter\u001b[49m\u001b[43m)\u001b[49m\n\u001b[1;32m     12\u001b[0m     df\u001b[38;5;241m.\u001b[39mloc[\u001b[38;5;28mlen\u001b[39m(df)] \u001b[38;5;241m=\u001b[39m np\u001b[38;5;241m.\u001b[39mconcatenate([np\u001b[38;5;241m.\u001b[39marray([gamma]),p_0_array,np\u001b[38;5;241m.\u001b[39marray([n_iter])])\n\u001b[1;32m     13\u001b[0m     df\u001b[38;5;241m.\u001b[39mto_csv(\u001b[38;5;124m'\u001b[39m\u001b[38;5;124mncp.csv\u001b[39m\u001b[38;5;124m'\u001b[39m, index \u001b[38;5;241m=\u001b[39m \u001b[38;5;28;01mFalse\u001b[39;00m)\n",
      "Cell \u001b[0;32mIn[6], line 6\u001b[0m, in \u001b[0;36mncp_optimizer\u001b[0;34m(t, gamma, ncp_prior_list, fitness, n_iter)\u001b[0m\n\u001b[1;32m      4\u001b[0m \u001b[38;5;28;01mfor\u001b[39;00m i \u001b[38;5;129;01min\u001b[39;00m tqdm(\u001b[38;5;28mrange\u001b[39m(n_iter)):\n\u001b[1;32m      5\u001b[0m     x \u001b[38;5;241m=\u001b[39m \u001b[38;5;28mnext\u001b[39m(gen)\n\u001b[0;32m----> 6\u001b[0m     arr[i] \u001b[38;5;241m=\u001b[39m \u001b[43mnum_blocks\u001b[49m\u001b[43m(\u001b[49m\u001b[43mt\u001b[49m\u001b[43m,\u001b[49m\u001b[43mx\u001b[49m\u001b[43m,\u001b[49m\u001b[43mncp_prior_list\u001b[49m\u001b[43m,\u001b[49m\u001b[43mfitness\u001b[49m\u001b[43m)\u001b[49m\n\u001b[1;32m      7\u001b[0m arr[arr \u001b[38;5;241m!=\u001b[39m \u001b[38;5;241m3\u001b[39m] \u001b[38;5;241m=\u001b[39m \u001b[38;5;241m1\u001b[39m\n\u001b[1;32m      8\u001b[0m arr[arr \u001b[38;5;241m==\u001b[39m \u001b[38;5;241m3\u001b[39m] \u001b[38;5;241m=\u001b[39m \u001b[38;5;241m0\u001b[39m\n",
      "Cell \u001b[0;32mIn[5], line 4\u001b[0m, in \u001b[0;36mnum_blocks\u001b[0;34m(t, x, ncp_prior_list, fitness)\u001b[0m\n\u001b[1;32m      2\u001b[0m arr \u001b[38;5;241m=\u001b[39m np\u001b[38;5;241m.\u001b[39mzeros_like(ncp_prior_list)\n\u001b[1;32m      3\u001b[0m \u001b[38;5;28;01mfor\u001b[39;00m i \u001b[38;5;129;01min\u001b[39;00m \u001b[38;5;28mrange\u001b[39m(\u001b[38;5;28mlen\u001b[39m(ncp_prior_list)):\n\u001b[0;32m----> 4\u001b[0m     edg \u001b[38;5;241m=\u001b[39m \u001b[43mbayesian_blocks\u001b[49m\u001b[43m(\u001b[49m\u001b[43mt\u001b[49m\u001b[43m,\u001b[49m\u001b[43mx\u001b[49m\u001b[43m,\u001b[49m\u001b[43mfitness\u001b[49m\u001b[38;5;241;43m=\u001b[39;49m\u001b[43mfitness\u001b[49m\u001b[43m,\u001b[49m\u001b[43mncp_prior\u001b[49m\u001b[38;5;241;43m=\u001b[39;49m\u001b[43mncp_prior_list\u001b[49m\u001b[43m[\u001b[49m\u001b[43mi\u001b[49m\u001b[43m]\u001b[49m\u001b[43m)\u001b[49m\n\u001b[1;32m      5\u001b[0m     n_edges \u001b[38;5;241m=\u001b[39m \u001b[38;5;28mlen\u001b[39m(edg)\n\u001b[1;32m      6\u001b[0m     n_blocks \u001b[38;5;241m=\u001b[39m n_edges \u001b[38;5;241m-\u001b[39m \u001b[38;5;241m1\u001b[39m\n",
      "File \u001b[0;32m/nix/store/8qipyzpsb65dlribryvlbmfg9ah5b16x-python3-3.10.13-env/lib/python3.10/site-packages/astropy/stats/bayesian_blocks.py:172\u001b[0m, in \u001b[0;36mbayesian_blocks\u001b[0;34m(t, x, sigma, fitness, **kwargs)\u001b[0m\n\u001b[1;32m    169\u001b[0m \u001b[38;5;28;01melse\u001b[39;00m:\n\u001b[1;32m    170\u001b[0m     \u001b[38;5;28;01mraise\u001b[39;00m \u001b[38;5;167;01mValueError\u001b[39;00m(\u001b[38;5;124m\"\u001b[39m\u001b[38;5;124mfitness parameter not understood\u001b[39m\u001b[38;5;124m\"\u001b[39m)\n\u001b[0;32m--> 172\u001b[0m \u001b[38;5;28;01mreturn\u001b[39;00m \u001b[43mfitfunc\u001b[49m\u001b[38;5;241;43m.\u001b[39;49m\u001b[43mfit\u001b[49m\u001b[43m(\u001b[49m\u001b[43mt\u001b[49m\u001b[43m,\u001b[49m\u001b[43m \u001b[49m\u001b[43mx\u001b[49m\u001b[43m,\u001b[49m\u001b[43m \u001b[49m\u001b[43msigma\u001b[49m\u001b[43m)\u001b[49m\n",
      "File \u001b[0;32m/nix/store/8qipyzpsb65dlribryvlbmfg9ah5b16x-python3-3.10.13-env/lib/python3.10/site-packages/astropy/stats/bayesian_blocks.py:389\u001b[0m, in \u001b[0;36mFitnessFunc.fit\u001b[0;34m(self, t, x, sigma)\u001b[0m\n\u001b[1;32m    386\u001b[0m     kwds[\u001b[38;5;124m\"\u001b[39m\u001b[38;5;124mc_k\u001b[39m\u001b[38;5;124m\"\u001b[39m] \u001b[38;5;241m=\u001b[39m \u001b[38;5;241m0.5\u001b[39m \u001b[38;5;241m*\u001b[39m np\u001b[38;5;241m.\u001b[39mcumsum(ck_raw[: (R \u001b[38;5;241m+\u001b[39m \u001b[38;5;241m1\u001b[39m)][::\u001b[38;5;241m-\u001b[39m\u001b[38;5;241m1\u001b[39m])[::\u001b[38;5;241m-\u001b[39m\u001b[38;5;241m1\u001b[39m]\n\u001b[1;32m    388\u001b[0m \u001b[38;5;66;03m# evaluate fitness function\u001b[39;00m\n\u001b[0;32m--> 389\u001b[0m fit_vec \u001b[38;5;241m=\u001b[39m \u001b[38;5;28;43mself\u001b[39;49m\u001b[38;5;241;43m.\u001b[39;49m\u001b[43mfitness\u001b[49m\u001b[43m(\u001b[49m\u001b[38;5;241;43m*\u001b[39;49m\u001b[38;5;241;43m*\u001b[39;49m\u001b[43mkwds\u001b[49m\u001b[43m)\u001b[49m\n\u001b[1;32m    391\u001b[0m A_R \u001b[38;5;241m=\u001b[39m fit_vec \u001b[38;5;241m-\u001b[39m ncp_prior\n\u001b[1;32m    392\u001b[0m A_R[\u001b[38;5;241m1\u001b[39m:] \u001b[38;5;241m+\u001b[39m\u001b[38;5;241m=\u001b[39m best[:R]\n",
      "File \u001b[0;32m~/Codice/tirocinio/BBexponential/bb_exponential.py:252\u001b[0m, in \u001b[0;36mExponentialBlocks_Events_Alt_2.fitness\u001b[0;34m(self, N_k, T_k)\u001b[0m\n\u001b[1;32m    249\u001b[0m \u001b[38;5;28;01mdef\u001b[39;00m \u001b[38;5;21mfitness\u001b[39m(\u001b[38;5;28mself\u001b[39m, N_k, T_k):\n\u001b[1;32m    250\u001b[0m     \u001b[38;5;66;03m# C105 from Scargle (2013) (even if it was called likelihood that is an error, it is the log-likelihood)\u001b[39;00m\n\u001b[1;32m    251\u001b[0m     S_k \u001b[38;5;241m=\u001b[39m \u001b[38;5;241m-\u001b[39m(\u001b[38;5;241m1\u001b[39m\u001b[38;5;241m/\u001b[39mN_k)\u001b[38;5;241m*\u001b[39m(np\u001b[38;5;241m.\u001b[39mcumsum((T_k\u001b[38;5;241m*\u001b[39m\u001b[38;5;28mself\u001b[39m\u001b[38;5;241m.\u001b[39manti_N_k(N_k))[::\u001b[38;5;241m-\u001b[39m\u001b[38;5;241m1\u001b[39m])[::\u001b[38;5;241m-\u001b[39m\u001b[38;5;241m1\u001b[39m])\n\u001b[0;32m--> 252\u001b[0m     a \u001b[38;5;241m=\u001b[39m \u001b[38;5;28;43mself\u001b[39;49m\u001b[38;5;241;43m.\u001b[39;49m\u001b[43mcompute_a\u001b[49m\u001b[43m(\u001b[49m\u001b[43mT_k\u001b[49m\u001b[43m,\u001b[49m\u001b[43mN_k\u001b[49m\u001b[43m,\u001b[49m\u001b[43mS_k\u001b[49m\u001b[43m)\u001b[49m\n\u001b[1;32m    253\u001b[0m     \u001b[38;5;28;01mreturn\u001b[39;00m N_k\u001b[38;5;241m*\u001b[39m(np\u001b[38;5;241m.\u001b[39mlog((a\u001b[38;5;241m*\u001b[39mN_k)\u001b[38;5;241m/\u001b[39m(\u001b[38;5;241m1\u001b[39m\u001b[38;5;241m-\u001b[39mnp\u001b[38;5;241m.\u001b[39mexp(\u001b[38;5;241m-\u001b[39ma\u001b[38;5;241m*\u001b[39mT_k)))\u001b[38;5;241m+\u001b[39ma\u001b[38;5;241m*\u001b[39mS_k\u001b[38;5;241m-\u001b[39m\u001b[38;5;241m1\u001b[39m)\n",
      "File \u001b[0;32m~/Codice/tirocinio/BBexponential/bb_exponential.py:243\u001b[0m, in \u001b[0;36mExponentialBlocks_Events_Alt_2.compute_a\u001b[0;34m(self, T_k, N_k, S_k)\u001b[0m\n\u001b[1;32m    241\u001b[0m     \u001b[38;5;28;01mreturn\u001b[39;00m \u001b[38;5;241m2\u001b[39m\u001b[38;5;241m/\u001b[39m(a\u001b[38;5;241m*\u001b[39m\u001b[38;5;241m*\u001b[39m\u001b[38;5;241m3\u001b[39m)\u001b[38;5;241m-\u001b[39m(T_k\u001b[38;5;241m*\u001b[39m\u001b[38;5;241m*\u001b[39m\u001b[38;5;241m3\u001b[39m)\u001b[38;5;241m*\u001b[39mQ_k\u001b[38;5;241m*\u001b[39m(\u001b[38;5;241m1\u001b[39m\u001b[38;5;241m+\u001b[39mQ_k)\u001b[38;5;241m*\u001b[39m(\u001b[38;5;241m1\u001b[39m\u001b[38;5;241m+\u001b[39m\u001b[38;5;241m2\u001b[39m\u001b[38;5;241m*\u001b[39mQ_k)\n\u001b[1;32m    242\u001b[0m \u001b[38;5;28;01mtry\u001b[39;00m:\n\u001b[0;32m--> 243\u001b[0m     a \u001b[38;5;241m=\u001b[39m \u001b[43mscipy\u001b[49m\u001b[38;5;241;43m.\u001b[39;49m\u001b[43moptimize\u001b[49m\u001b[38;5;241;43m.\u001b[39;49m\u001b[43mnewton\u001b[49m\u001b[43m(\u001b[49m\u001b[43mf\u001b[49m\u001b[43m,\u001b[49m\u001b[43mnp\u001b[49m\u001b[38;5;241;43m.\u001b[39;49m\u001b[43mones_like\u001b[49m\u001b[43m(\u001b[49m\u001b[43mT_k\u001b[49m\u001b[43m)\u001b[49m\u001b[43m,\u001b[49m\u001b[43mfprime\u001b[49m\u001b[38;5;241;43m=\u001b[39;49m\u001b[43mf_prime\u001b[49m\u001b[43m,\u001b[49m\u001b[43mfprime2\u001b[49m\u001b[38;5;241;43m=\u001b[39;49m\u001b[43mf_second\u001b[49m\u001b[43m)\u001b[49m\n\u001b[1;32m    244\u001b[0m \u001b[38;5;28;01mexcept\u001b[39;00m \u001b[38;5;167;01mException\u001b[39;00m \u001b[38;5;28;01mas\u001b[39;00m e:\n\u001b[1;32m    245\u001b[0m     \u001b[38;5;28mprint\u001b[39m(\u001b[38;5;124m'\u001b[39m\u001b[38;5;124mOcchio\u001b[39m\u001b[38;5;124m'\u001b[39m)\n",
      "File \u001b[0;32m/nix/store/8qipyzpsb65dlribryvlbmfg9ah5b16x-python3-3.10.13-env/lib/python3.10/site-packages/scipy/optimize/_zeros_py.py:278\u001b[0m, in \u001b[0;36mnewton\u001b[0;34m(func, x0, fprime, args, tol, maxiter, fprime2, x1, rtol, full_output, disp)\u001b[0m\n\u001b[1;32m    276\u001b[0m     \u001b[38;5;28;01mraise\u001b[39;00m \u001b[38;5;167;01mValueError\u001b[39;00m(\u001b[38;5;124m\"\u001b[39m\u001b[38;5;124mmaxiter must be greater than 0\u001b[39m\u001b[38;5;124m\"\u001b[39m)\n\u001b[1;32m    277\u001b[0m \u001b[38;5;28;01mif\u001b[39;00m np\u001b[38;5;241m.\u001b[39msize(x0) \u001b[38;5;241m>\u001b[39m \u001b[38;5;241m1\u001b[39m:\n\u001b[0;32m--> 278\u001b[0m     \u001b[38;5;28;01mreturn\u001b[39;00m \u001b[43m_array_newton\u001b[49m\u001b[43m(\u001b[49m\u001b[43mfunc\u001b[49m\u001b[43m,\u001b[49m\u001b[43m \u001b[49m\u001b[43mx0\u001b[49m\u001b[43m,\u001b[49m\u001b[43m \u001b[49m\u001b[43mfprime\u001b[49m\u001b[43m,\u001b[49m\u001b[43m \u001b[49m\u001b[43margs\u001b[49m\u001b[43m,\u001b[49m\u001b[43m \u001b[49m\u001b[43mtol\u001b[49m\u001b[43m,\u001b[49m\u001b[43m \u001b[49m\u001b[43mmaxiter\u001b[49m\u001b[43m,\u001b[49m\u001b[43m \u001b[49m\u001b[43mfprime2\u001b[49m\u001b[43m,\u001b[49m\n\u001b[1;32m    279\u001b[0m \u001b[43m                         \u001b[49m\u001b[43mfull_output\u001b[49m\u001b[43m)\u001b[49m\n\u001b[1;32m    281\u001b[0m \u001b[38;5;66;03m# Convert to float (don't use float(x0); this works also for complex x0)\u001b[39;00m\n\u001b[1;32m    282\u001b[0m p0 \u001b[38;5;241m=\u001b[39m \u001b[38;5;241m1.0\u001b[39m \u001b[38;5;241m*\u001b[39m x0\n",
      "File \u001b[0;32m/nix/store/8qipyzpsb65dlribryvlbmfg9ah5b16x-python3-3.10.13-env/lib/python3.10/site-packages/scipy/optimize/_zeros_py.py:404\u001b[0m, in \u001b[0;36m_array_newton\u001b[0;34m(func, x0, fprime, args, tol, maxiter, fprime2, full_output)\u001b[0m\n\u001b[1;32m    402\u001b[0m dp \u001b[38;5;241m=\u001b[39m fval[nz_der] \u001b[38;5;241m/\u001b[39m fder[nz_der]\n\u001b[1;32m    403\u001b[0m \u001b[38;5;28;01mif\u001b[39;00m fprime2 \u001b[38;5;129;01mis\u001b[39;00m \u001b[38;5;129;01mnot\u001b[39;00m \u001b[38;5;28;01mNone\u001b[39;00m:\n\u001b[0;32m--> 404\u001b[0m     fder2 \u001b[38;5;241m=\u001b[39m np\u001b[38;5;241m.\u001b[39masarray(\u001b[43mfprime2\u001b[49m\u001b[43m(\u001b[49m\u001b[43mp\u001b[49m\u001b[43m,\u001b[49m\u001b[43m \u001b[49m\u001b[38;5;241;43m*\u001b[39;49m\u001b[43margs\u001b[49m\u001b[43m)\u001b[49m)\n\u001b[1;32m    405\u001b[0m     dp \u001b[38;5;241m=\u001b[39m dp \u001b[38;5;241m/\u001b[39m (\u001b[38;5;241m1.0\u001b[39m \u001b[38;5;241m-\u001b[39m \u001b[38;5;241m0.5\u001b[39m \u001b[38;5;241m*\u001b[39m dp \u001b[38;5;241m*\u001b[39m fder2[nz_der] \u001b[38;5;241m/\u001b[39m fder[nz_der])\n\u001b[1;32m    406\u001b[0m \u001b[38;5;66;03m# only update nonzero derivatives\u001b[39;00m\n",
      "\u001b[0;31mKeyboardInterrupt\u001b[0m: "
     ]
    }
   ],
   "source": [
    "gammas = np.linspace(389.47368421052636,2000,18)\n",
    "ncp_prior_list = np.linspace(400,1600,20)\n",
    "t = np.arange(500)\n",
    "n_iter = 50\n",
    "\n",
    "#columns = ['gamma'] + ['p_0(ncp='+str(ncp)+')' for ncp in ncp_prior_list] + ['n_iter']\n",
    "#df = pd.DataFrame(columns = columns)\n",
    "df = pd.read_csv('ncp.csv')\n",
    "for gamma in gammas:\n",
    "    print(f'esecuzione con parametro gamma={gamma}')\n",
    "    p_0_array = ncp_optimizer(t,gamma,ncp_prior_list,fitness = ExponentialBlocks_Events_Alt_2,n_iter=n_iter)\n",
    "    df.loc[len(df)] = np.concatenate([np.array([gamma]),p_0_array,np.array([n_iter])])\n",
    "    df.to_csv('ncp.csv', index = False)"
   ]
  },
  {
   "cell_type": "code",
   "execution_count": null,
   "id": "3ad2a3f1",
   "metadata": {},
   "outputs": [],
   "source": []
  }
 ],
 "metadata": {
  "kernelspec": {
   "display_name": "Python 3 (ipykernel)",
   "language": "python",
   "name": "python3"
  },
  "language_info": {
   "codemirror_mode": {
    "name": "ipython",
    "version": 3
   },
   "file_extension": ".py",
   "mimetype": "text/x-python",
   "name": "python",
   "nbconvert_exporter": "python",
   "pygments_lexer": "ipython3",
   "version": "3.10.13"
  }
 },
 "nbformat": 4,
 "nbformat_minor": 5
}
