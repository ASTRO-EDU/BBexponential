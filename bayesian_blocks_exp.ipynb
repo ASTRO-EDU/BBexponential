{
 "cells": [
  {
   "cell_type": "code",
   "execution_count": 1,
   "id": "8646b54d",
   "metadata": {},
   "outputs": [],
   "source": [
    "import astropy\n",
    "import numpy as np\n",
    "import matplotlib.pyplot as plt\n",
    "from astropy.stats import FitnessFunc, bayesian_blocks"
   ]
  },
  {
   "cell_type": "markdown",
   "id": "2d9cd9a1",
   "metadata": {},
   "source": [
    "In astropy the function `bayesian_blocks` is implemented such that one can either pass a string for the type of data, a fitness function that is an instance of the class `FitnessFunc` or a subclass of `FitnessFunc`.\n",
    "To implement bayesian blocks with exponential functions we just create a subclass of `FitnessFunc` that implements exponential bounds. This way using the algorithm will be as easy as\n",
    "```python\n",
    "edges = bayesian_blocks(t, x, fitness=ExponentialBlocks_Events, p0=0.01)\n",
    "```"
   ]
  },
  {
   "cell_type": "code",
   "execution_count": 2,
   "id": "76f0d00f",
   "metadata": {},
   "outputs": [],
   "source": [
    "class ExponentialBlocks_Events(FitnessFunc):\n",
    "    r\"\"\" Bayesian Blocks Fitness for binned or unbinned events with piecewise exponential function over the blocks\n",
    "    \n",
    "    Parameters\n",
    "    ----------\n",
    "    p0 : float, optional\n",
    "        False alarm probability, used to compute the prior on\n",
    "        :math:`N_{\\rm blocks}` (see eq. 21 of Scargle 2013). For the Events\n",
    "        type data, ``p0`` does not seem to be an accurate representation of the\n",
    "        actual false alarm probability. If you are using this fitness function\n",
    "        for a triggering type condition, it is recommended that you run\n",
    "        statistical trials on signal-free noise to determine an appropriate\n",
    "        value of ``gamma`` or ``ncp_prior`` to use for a desired false alarm\n",
    "        rate.\n",
    "    gamma : float, optional\n",
    "        If specified, then use this gamma to compute the general prior form,\n",
    "        :math:`p \\sim {\\tt gamma}^{N_{\\rm blocks}}`.  If gamma is specified, p0\n",
    "        is ignored.\n",
    "    ncp_prior : float, optional\n",
    "        If specified, use the value of ``ncp_prior`` to compute the prior as\n",
    "        above, using the definition :math:`{\\tt ncp\\_prior} = -\\ln({\\tt\n",
    "        gamma})`.\n",
    "        If ``ncp_prior`` is specified, ``gamma`` and ``p0`` is ignored.\n",
    "    \"\"\"\n",
    "    \n",
    "    def compute_a(self,N_k, T_k, a_0=1):\n",
    "        \"\"\"Computes as instructed by eq. C116 in Scargle (2013).\n",
    "        \n",
    "        Parameters\n",
    "        ---------\n",
    "        N_k : array-like\n",
    "            number of events in blocks in receding order (from last to first)\n",
    "        T_k : array-like, float\n",
    "            length of the blocks in decreasing order\n",
    "        ---------\n",
    "        \n",
    "        Returns\n",
    "        ---------\n",
    "        a : array-like\n",
    "            optimal parameter for each block identified by T_k\n",
    "        \"\"\"\n",
    "        def compute_S_k(T_k,N_k):\n",
    "            \"\"\"array of the S variables needed to calculate a as in eq C110 in Scargle (2013) \n",
    "            \"\"\"\n",
    "            return -(1/N_k)*np.flip(np.cumsum(T_k))\n",
    "        def compute_Q_k(a,T_k):\n",
    "            \"\"\"as above\n",
    "            \"\"\"\n",
    "            return np.exp(-a*T_k)*(1/(1-np.exp(-a*T_k)))\n",
    "            \n",
    "        def f(a,T_k,Q_k,S_k):\n",
    "            \"\"\"function whose 0 is the a that we need to find\n",
    "            \"\"\"\n",
    "            return (1/a)-T_k*Q_k+S_k\n",
    "        #initialise the value of a as an array\n",
    "        if type(a_0)==int:\n",
    "            a = a_0 * np.ones_like(T_k,dtype=float)\n",
    "        elif type(a_0)==np.ndarray:\n",
    "            a=a_0\n",
    "        else:\n",
    "            raise ValueError()\n",
    "        #implementation of Newton's method to find the optimal a\n",
    "        for i in range(100): #TODO implementare una maniera più intelligente di terminare Newton\n",
    "            Q_k = compute_Q_k(a,T_k)\n",
    "            S_k = compute_S_k(T_k,N_k)\n",
    "            num = f(a,T_k,Q_k,S_k)\n",
    "            den = -np.power(1/a,2)+T_k*T_k*Q_k*(1+Q_k)\n",
    "            a -= np.divide(num,den)\n",
    "        return a\n",
    "    \n",
    "    def fitness(self, N_k, T_k):\n",
    "        # the log (to have additivity of the blocks) of C105 from Scargle (2013)\n",
    "        #print(N_k,T_k)\n",
    "        a = self.compute_a(N_k,T_k)\n",
    "        return np.log(N_k*np.log(np.divide(a*N_k,1-np.exp(-a*T_k)))-a*np.flip(np.cumsum(T_k))-N_k)"
   ]
  },
  {
   "cell_type": "code",
   "execution_count": 3,
   "id": "23a23d00",
   "metadata": {},
   "outputs": [
    {
     "name": "stdout",
     "output_type": "stream",
     "text": [
      "[ 3.  5.  2.  2.  2.  1.  1.  2.  3.  2.  2.  2.  3.  2.  3.  2.  2.  2.\n",
      "  3.  1.  2.  4.  1.  1.  4.  2.  2.  3.  4.  1.  6.  3.  4.  6.  6.  2.\n",
      "  3.  6.  4.  6.  4.  4.  5.  7.  4.  7.  4.  5.  5.  8.  8.  7.  6.  7.\n",
      " 10.  6.  8.  6.  5.  8.  9.  7. 10.  8.  9. 12. 10. 10. 12.  9. 12.  8.\n",
      " 14. 12. 15. 17. 13. 14. 14. 15. 13. 18. 19. 16. 18. 20. 18. 20. 22. 18.\n",
      " 23. 23. 24. 21. 23. 24. 26. 27. 26. 28.]\n"
     ]
    },
    {
     "name": "stderr",
     "output_type": "stream",
     "text": [
      "/tmp/ipykernel_2318/66468409.py:49: RuntimeWarning: overflow encountered in exp\n",
      "  return np.exp(-a*T_k)*(1/(1-np.exp(-a*T_k)))\n",
      "/tmp/ipykernel_2318/66468409.py:49: RuntimeWarning: invalid value encountered in multiply\n",
      "  return np.exp(-a*T_k)*(1/(1-np.exp(-a*T_k)))\n"
     ]
    },
    {
     "name": "stdout",
     "output_type": "stream",
     "text": [
      "[0.         0.05       0.08333333 3.3       ]\n"
     ]
    }
   ],
   "source": [
    "N_k=np.array([100,50,100])\n",
    "T_k=np.array([6,5,4])\n",
    "##############\n",
    "t=np.arange(0,100)/30\n",
    "x=np.abs(np.floor(np.exp(t))+np.random.binomial(10,0.5,100)-5)+1\n",
    "#print(t)\n",
    "print(x)\n",
    "print(bayesian_blocks(t,x,fitness=ExponentialBlocks_Events))"
   ]
  },
  {
   "cell_type": "code",
   "execution_count": 4,
   "id": "47932da0",
   "metadata": {
    "scrolled": false
   },
   "outputs": [
    {
     "name": "stderr",
     "output_type": "stream",
     "text": [
      "/tmp/ipykernel_2318/66468409.py:49: RuntimeWarning: overflow encountered in exp\n",
      "  return np.exp(-a*T_k)*(1/(1-np.exp(-a*T_k)))\n",
      "/tmp/ipykernel_2318/66468409.py:49: RuntimeWarning: invalid value encountered in multiply\n",
      "  return np.exp(-a*T_k)*(1/(1-np.exp(-a*T_k)))\n"
     ]
    },
    {
     "data": {
      "image/png": "[encoded data removed]",
      "text/plain": [
       "<Figure size 640x480 with 2 Axes>"
      ]
     },
     "metadata": {},
     "output_type": "display_data"
    }
   ],
   "source": [
    "fig, axs = plt.subplots(1, 2, sharey=True, tight_layout=True)\n",
    "axs[0].step(t, x)\n",
    "axs[1].step(t, x)\n",
    "xcoords = bayesian_blocks(t,x,fitness=ExponentialBlocks_Events)\n",
    "for xc in xcoords:\n",
    "    axs[0].axvline(x=xc, color='grey', alpha=0.3)\n",
    "xcoords = bayesian_blocks(t,x,fitness='events')\n",
    "for xc in xcoords:\n",
    "    axs[1].axvline(x=xc, color='grey', alpha=0.3)"
   ]
  },
  {
   "cell_type": "code",
   "execution_count": 5,
   "id": "ecef715d",
   "metadata": {},
   "outputs": [
    {
     "data": {
      "image/png": "[encoded data removed]",
      "text/plain": [
       "<Figure size 640x480 with 2 Axes>"
      ]
     },
     "metadata": {},
     "output_type": "display_data"
    }
   ],
   "source": [
    "t=np.arange(0,100)/30\n",
    "x=800+np.random.binomial(10,0.3,100)\n",
    "fig, axs = plt.subplots(1, 2, sharey=True, tight_layout=True)\n",
    "axs[0].step(t, x)\n",
    "axs[1].step(t, x)\n",
    "xcoords = bayesian_blocks(t,x,fitness=ExponentialBlocks_Events)\n",
    "for xc in xcoords:\n",
    "    axs[0].axvline(x=xc, color='grey', alpha=0.3)\n",
    "xcoords = bayesian_blocks(t,x,fitness='events')\n",
    "for xc in xcoords:\n",
    "    axs[1].axvline(x=xc, color='grey', alpha=0.3)"
   ]
  },
  {
   "cell_type": "code",
   "execution_count": null,
   "id": "8c8221ec",
   "metadata": {},
   "outputs": [],
   "source": []
  }
 ],
 "metadata": {
  "kernelspec": {
   "display_name": "Python 3 (ipykernel)",
   "language": "python",
   "name": "python3"
  },
  "language_info": {
   "codemirror_mode": {
    "name": "ipython",
    "version": 3
   },
   "file_extension": ".py",
   "mimetype": "text/x-python",
   "name": "python",
   "nbconvert_exporter": "python",
   "pygments_lexer": "ipython3",
   "version": "3.10.13"
  }
 },
 "nbformat": 4,
 "nbformat_minor": 5
}
