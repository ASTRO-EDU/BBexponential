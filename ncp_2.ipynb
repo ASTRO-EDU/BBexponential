{
 "cells": [
  {
   "cell_type": "code",
   "execution_count": 14,
   "id": "b412c931",
   "metadata": {},
   "outputs": [],
   "source": [
    "import numpy as np\n",
    "import matplotlib.pyplot as plt\n",
    "import pandas as pd\n",
    "import scipy"
   ]
  },
  {
   "cell_type": "code",
   "execution_count": 18,
   "id": "c85587c8",
   "metadata": {},
   "outputs": [
    {
     "name": "stdout",
     "output_type": "stream",
     "text": [
      "        p0=0.1  p0=0.08  p0=0.06  p0=0.04  p0=0.02  p0=0\n",
      "100.0      238      240      243      250      258   279\n",
      "200.0      288      290      292      297      300   360\n",
      "300.0      370      372      374      379      382   443\n",
      "400.0      452      453      456      461      465   486\n",
      "500.0      534      536      538      543      546   567\n",
      "600.0      615      617      619      624      628   649\n",
      "700.0      697      699      702      706      709   731\n",
      "800.0      778      780      783      787      791   811\n",
      "900.0      859      861      864      869      872   893\n",
      "1000.0     941      943      946      950      954   975\n",
      "1100.0    1022     1025     1027     1032     1034  1055\n",
      "1200.0    1103     1106     1108     1113     1116  1138\n",
      "1300.0    1184     1187     1189     1194     1197  1219\n",
      "1400.0    1266     1268     1270     1275     1278  1300\n",
      "1500.0    1347     1349     1351     1356     1359  1381\n",
      "1600.0    1445     1446     1447     1448     1452  1462\n",
      "1700.0    1509     1511     1514     1519     1521  1543\n",
      "1800.0    1590     1592     1595     1599     1602  1624\n",
      "1900.0    1671     1673     1676     1681     1683  1705\n"
     ]
    }
   ],
   "source": [
    "columns = ['p0=0.1','p0=0.08','p0=0.06','p0=0.04','p0=0.02','p0=0']\n",
    "index = np.linspace(100,1900,19)\n",
    "data_t_1000 = [[238,240,243,250,258,279],\n",
    "        [288,290,292,297,300,360],\n",
    "        [370,372,374,379,382,443],\n",
    "        [452,453,456,461,465,486],\n",
    "        [534,536,538,543,546,567],\n",
    "        [615,617,619,624,628,649],\n",
    "        [697,699,702,706,709,731],\n",
    "        [778,780,783,787,791,811],\n",
    "        [859,861,864,869,872,893],\n",
    "        [941,943,946,950,954,975],\n",
    "        [1022,1025,1027,1032,1034,1055],\n",
    "        [1103,1106,1108,1113,1116,1138],\n",
    "        [1184,1187,1189,1194,1197,1219],\n",
    "        [1266,1268,1270,1275,1278,1300],\n",
    "        [1347,1349,1351,1356,1359,1381],\n",
    "        [1445,1446,1447,1448,1452,1462],\n",
    "        [1509,1511,1514,1519,1521,1543],\n",
    "        [1590,1592,1595,1599,1602,1624],\n",
    "        [1671,1673,1676,1681,1683,1705],]\n",
    "#        [1,1,1,1,1,1]]\n",
    "df_t_1000 = pd.DataFrame(data_t_1000,columns = columns,index=index)\n",
    "print(df_t_1000)"
   ]
  },
  {
   "cell_type": "code",
   "execution_count": null,
   "id": "707e291e",
   "metadata": {
    "scrolled": false
   },
   "outputs": [],
   "source": [
    "plt.plot(index,df_t_1000['p0=0'])\n",
    "scipy.stats.linregress(index,df_t_1000['p0=0'])\n",
    "#plt.plot(index,0.7974*index+182)"
   ]
  },
  {
   "cell_type": "code",
   "execution_count": 46,
   "id": "ecb48e51",
   "metadata": {},
   "outputs": [
    {
     "name": "stdout",
     "output_type": "stream",
     "text": [
      "[0.9998640066515329, 0.9998678646082501, 0.999869082244349, 0.9998661052661851, 0.9998275999427904, 0.999715904493415]\n",
      "[0.810298245614035, 0.8104035087719298, 0.8103508771929824, 0.809561403508772, 0.8083684210526315, 0.7974736842105263]\n",
      "[132.2807017543861, 134.2280701754387, 136.70175438596505, 142.17543859649106, 146.73684210526312, 182.57894736842104]\n"
     ]
    }
   ],
   "source": [
    "r_vals=[]\n",
    "for column in df_t_1000:\n",
    "    r_vals.append(scipy.stats.linregress(index,df_t_1000[column]))\n",
    "print([i.rvalue for i in r_vals])\n",
    "print([i.slope for i in r_vals])\n",
    "print([i.intercept for i in r_vals])"
   ]
  },
  {
   "cell_type": "markdown",
   "id": "d0fef75a",
   "metadata": {},
   "source": [
    "Questo mostra che ncp_prior come funzione di N e p_0 se fissato p_0 sarà lineare (tuttavia i coefficienti di linearità dipendono da p_0 ovviamente)"
   ]
  },
  {
   "cell_type": "code",
   "execution_count": null,
   "id": "318a844c",
   "metadata": {
    "scrolled": false
   },
   "outputs": [],
   "source": [
    "for gamma in index:\n",
    "    plt.title(f'gamma={gamma}')\n",
    "    plt.plot(np.transpose(np.array([0.1,0.08,0.06,0.04,0.02,0])),np.transpose(df_t_1000.loc[[gamma]]))\n",
    "    plt.show()"
   ]
  },
  {
   "cell_type": "code",
   "execution_count": 36,
   "id": "5f881d14",
   "metadata": {
    "scrolled": true
   },
   "outputs": [
    {
     "name": "stdout",
     "output_type": "stream",
     "text": [
      "[-0.9226697586006988, -0.7663260302383612, -0.7648402594770225, -0.8900629786337255, -0.8823338597681841, -0.8871300679484163, -0.8790708367496718, -0.8952320124754231, -0.8951447420106303, -0.889592609874362, -0.8864795003985774, -0.886304778053801, -0.886304778053801, -0.8768507315197221, -0.8768507315197221, -0.8745983115158439, -0.8844344466197668, -0.8790708367496718, -0.8844344466197668]\n"
     ]
    }
   ],
   "source": [
    "r_vals=[]\n",
    "for i in index:\n",
    "    r_vals.append(scipy.stats.linregress(np.array([0.1,0.08,0.06,0.04,0.02,0]),df_t_1000.loc[[i]]).rvalue)\n",
    "print(r_vals)"
   ]
  },
  {
   "cell_type": "code",
   "execution_count": 49,
   "id": "29676246",
   "metadata": {
    "scrolled": true
   },
   "outputs": [
    {
     "data": {
      "text/plain": [
       "LinregressResult(slope=0.12800000000000034, intercept=0.7974000000000001, rvalue=1.0, pvalue=0.0, stderr=0.0, intercept_stderr=0.0)"
      ]
     },
     "execution_count": 49,
     "metadata": {},
     "output_type": "execute_result"
    }
   ],
   "source": [
    "p0=np.array([0,0.1])\n",
    "c_p0 = np.array([182,132])\n",
    "a_p0 = np.array([0.7974,0.8102])\n",
    "scipy.stats.linregress(p0,a_p0)"
   ]
  },
  {
   "cell_type": "code",
   "execution_count": 6,
   "id": "1aefe328",
   "metadata": {
    "scrolled": true
   },
   "outputs": [
    {
     "name": "stdout",
     "output_type": "stream",
     "text": [
      "[ 100000.  110000.  120000.  130000.  140000.  150000.  160000.  170000.\n",
      "  180000.  190000.  200000.  210000.  220000.  230000.  240000.  250000.\n",
      "  260000.  270000.  280000.  290000.  300000.  310000.  320000.  330000.\n",
      "  340000.  350000.  360000.  370000.  380000.  390000.  400000.  410000.\n",
      "  420000.  430000.  440000.  450000.  460000.  470000.  480000.  490000.\n",
      "  500000.  510000.  520000.  530000.  540000.  550000.  560000.  570000.\n",
      "  580000.  590000.  600000.  610000.  620000.  630000.  640000.  650000.\n",
      "  660000.  670000.  680000.  690000.  700000.  710000.  720000.  730000.\n",
      "  740000.  750000.  760000.  770000.  780000.  790000.  800000.  810000.\n",
      "  820000.  830000.  840000.  850000.  860000.  870000.  880000.  890000.\n",
      "  900000.  910000.  920000.  930000.  940000.  950000.  960000.  970000.\n",
      "  980000.  990000. 1000000. 1010000. 1020000. 1030000. 1040000. 1050000.\n",
      " 1060000. 1070000. 1080000. 1090000. 1100000. 1110000. 1120000. 1130000.\n",
      " 1140000. 1150000. 1160000. 1170000. 1180000. 1190000. 1200000. 1210000.\n",
      " 1220000. 1230000. 1240000. 1250000. 1260000. 1270000. 1280000. 1290000.\n",
      " 1300000. 1310000. 1320000. 1330000. 1340000. 1350000. 1360000. 1370000.\n",
      " 1380000. 1390000. 1400000. 1410000. 1420000. 1430000. 1440000. 1450000.\n",
      " 1460000. 1470000. 1480000. 1490000. 1500000. 1510000. 1520000. 1530000.\n",
      " 1540000. 1550000. 1560000. 1570000. 1580000. 1590000. 1600000. 1610000.\n",
      " 1620000. 1630000. 1640000. 1650000. 1660000. 1670000. 1680000. 1690000.\n",
      " 1700000. 1710000. 1720000. 1730000. 1740000. 1750000. 1760000. 1770000.\n",
      " 1780000. 1790000. 1800000. 1810000. 1820000. 1830000. 1840000. 1850000.\n",
      " 1860000. 1870000. 1880000. 1890000. 1900000. 1910000. 1920000. 1930000.\n",
      " 1940000. 1950000. 1960000. 1970000. 1980000. 1990000. 2000000. 2010000.\n",
      " 2020000. 2030000. 2040000. 2050000. 2060000. 2070000. 2080000. 2090000.\n",
      " 2100000. 2110000. 2120000. 2130000. 2140000. 2150000. 2160000. 2170000.\n",
      " 2180000. 2190000. 2200000. 2210000. 2220000. 2230000. 2240000. 2250000.\n",
      " 2260000. 2270000. 2280000. 2290000. 2300000. 2310000. 2320000. 2330000.\n",
      " 2340000. 2350000. 2360000. 2370000. 2380000. 2390000. 2400000. 2410000.\n",
      " 2420000. 2430000. 2440000. 2450000. 2460000. 2470000. 2480000. 2490000.\n",
      " 2500000. 2510000. 2520000. 2530000. 2540000. 2550000. 2560000. 2570000.\n",
      " 2580000. 2590000. 2600000. 2610000. 2620000. 2630000. 2640000. 2650000.\n",
      " 2660000. 2670000. 2680000. 2690000. 2700000. 2710000. 2720000. 2730000.\n",
      " 2740000. 2750000. 2760000. 2770000. 2780000. 2790000. 2800000. 2810000.\n",
      " 2820000. 2830000. 2840000. 2850000. 2860000. 2870000. 2880000. 2890000.\n",
      " 2900000. 2910000. 2920000. 2930000. 2940000. 2950000. 2960000. 2970000.\n",
      " 2980000. 2990000. 3000000.]\n",
      "`xtol` termination condition is satisfied.\n",
      "Function evaluations 42, initial cost 1.8604e+09, final cost 2.0292e+06, first-order optimality 7.76e+20.\n",
      "`ftol` termination condition is satisfied.\n",
      "Function evaluations 224, initial cost 1.8604e+09, final cost 1.4090e+06, first-order optimality 1.26e+18.\n"
     ]
    }
   ],
   "source": [
    "import scipy\n",
    "import numpy as np\n",
    "\n",
    "def model_pow_frac(x,u):\n",
    "    return x[0]*(u**2+x[1]*u)/(u**2+x[2]*u+x[3])\n",
    "def model_pow2(x,u):\n",
    "    return np.divide(x[0]*u**3+x[1]*u**2+x[2]*u+x[3],u**3+x[4]*u**2+x[5]*u+x[6])\n",
    "\n",
    "def fun_pow_frac(x,u,y):\n",
    "    return model_pow_frac(x,u) - y\n",
    "def fun_pow2(x,u,y):\n",
    "    return model_pow2(x,u) - y\n",
    "\n",
    "def jac_pow_frac(x, u, y):\n",
    "    J = np.empty((u.size, x.size))\n",
    "    J[:, 0] = (u**2+x[1]*u)/(u**2+x[2]*u+x[3])\n",
    "    J[:, 1] = (x[0]*u)/(u**2+x[2]*u+x[3])\n",
    "    J[:, 2] = -x[0]*(u**2+x[1]*u)*u/((u**2+x[2]*u+x[3])**2)\n",
    "    J[:, 3] = -x[0]*(u**2+x[1]*u)/((u**2+x[2]*u+x[3])**2)\n",
    "    return J\n",
    "def jac_pow2(x, u, y):\n",
    "    J = np.empty((u.size, x.size))\n",
    "    J[:, 0] = np.divide(u**3,u**3+x[4]*u**2+x[5]*u+x[6])\n",
    "    J[:, 1] = np.divide(u**2,u**3+x[4]*u**2+x[5]*u+x[6])\n",
    "    J[:, 2] = np.divide(u,u**3+x[4]*u**2+x[5]*u+x[6])\n",
    "    J[:, 3] = np.divide(1,u**3+x[4]*u**2+x[5]*u+x[6])\n",
    "    J[:, 4] = -np.divide((x[0]*u**3+x[1]*u**2+x[2]*u+x[3])*u**2,(u**3+x[4]*u**2+x[5]*u+x[6])**2)\n",
    "    J[:, 5] = -np.divide((x[0]*u**3+x[1]*u**2+x[2]*u+x[3])*u,(u**3+x[4]*u**2+x[5]*u+x[6])**2)\n",
    "    J[:, 6] = -np.divide((x[0]*u**3+x[1]*u**2+x[2]*u+x[3]),(u**3+x[4]*u**2+x[5]*u+x[6])**2)\n",
    "    return J\n",
    "\n",
    "u = np.arange(140000,2670000,25450) #media degli N\n",
    "y = np.array([\n",
    "    300,700,1050,1300,1550,1800,2050,2300,2400,2600,\n",
    "    2950,3000,3200,3300,3700,3800,4000,4150,4200,4400,\n",
    "    4550,4700,4800,5000,5100,5300,5250,5400,5600,5700,\n",
    "    5900,5900,6100,6300,6300,6350,6350,6500,6500,6700,\n",
    "    6600,6650,6650,6650,6700,6750,6750,6750,6750,6850,\n",
    "    6850,6850,6900,6900,6900,7000,7000,7000,7000,7000,\n",
    "    7000,7000,7000,7000,7000,7000,7000,7000,7000,7000,\n",
    "    7000,7000,7000,7000,7000,7000,7000,7000,7000,7000,\n",
    "    7000,7000,7000,7000,7000,7000,7000,7000,7000,7000,\n",
    "    7000,7000,7000,7000,7000,7000,7000,7000,7000,7000  ])#ncp_prior per ottimizzarlo\n",
    "\n",
    "\n",
    "print(u_y[:,0])\n",
    "x_0_pow_frac = np.array([1,1,1,1])\n",
    "x_0_pow2 = np.array([1,1,1,1,1,1,1])\n",
    "res_pow_frac = scipy.optimize.least_squares(fun_pow_frac, x_0_pow_frac, jac=jac_pow_frac, bounds=(0, 1e20), args=(u, y), verbose=1)\n",
    "res_pow2 = scipy.optimize.least_squares(fun_pow2, x_0_pow2, jac=jac_pow2, bounds=(-1e20, 1e20), args=(u, y), verbose=1)"
   ]
  },
  {
   "cell_type": "code",
   "execution_count": 59,
   "id": "1c2c9ee5",
   "metadata": {},
   "outputs": [
    {
     "name": "stdout",
     "output_type": "stream",
     "text": [
      "[4.96410616e+03 2.41636813e+06 3.55995027e+05 1.48055084e+12]\n",
      "[ 7.09902870e+03 -6.29735501e+07  2.47170653e+13 -6.85948955e+07\n",
      " -1.12139198e+05  2.74181065e+11  1.15222487e+12]\n"
     ]
    }
   ],
   "source": [
    "print(res_pow_frac.x)\n",
    "print(res_pow2.x)"
   ]
  },
  {
   "cell_type": "code",
   "execution_count": 4,
   "id": "50d892d7",
   "metadata": {
    "scrolled": false
   },
   "outputs": [
    {
     "name": "stdout",
     "output_type": "stream",
     "text": [
      "625.2921448473121\n"
     ]
    },
    {
     "data": {
      "image/png": "[encoded data removed]",
      "text/plain": [
       "<Figure size 640x480 with 1 Axes>"
      ]
     },
     "metadata": {},
     "output_type": "display_data"
    }
   ],
   "source": [
    "import matplotlib.pyplot as plt\n",
    "\n",
    "u_test = np.linspace(1e5,1e7,1000)                           #valori test di N\n",
    "y_test_pow_frac = model_pow_frac(res_pow_frac.x, u_test)\n",
    "y_test_pow2 = model_pow2(res_pow2.x, u_test)\n",
    "print(model_pow2(res_pow2.x,150000))\n",
    "plt.plot(u, y, 'o', markersize=4, label='data')\n",
    "#plt.plot(u_test, y_test_pow_frac, label='fitted pow_frac model')\n",
    "plt.plot(u_test, y_test_pow2, label='fitted pow2 model')\n",
    "plt.xlabel(\"N\")\n",
    "plt.ylabel(\"ncp_prior\")\n",
    "plt.legend(loc='lower right')\n",
    "plt.show()"
   ]
  },
  {
   "cell_type": "code",
   "execution_count": 7,
   "id": "bbbff1f9",
   "metadata": {},
   "outputs": [
    {
     "name": "stdout",
     "output_type": "stream",
     "text": [
      "-258.0772854905164\n"
     ]
    },
    {
     "data": {
      "image/png": "[encoded data removed]",
      "text/plain": [
       "<Figure size 640x480 with 1 Axes>"
      ]
     },
     "metadata": {},
     "output_type": "display_data"
    }
   ],
   "source": [
    "from scipy.interpolate import CubicSpline, PchipInterpolator, Akima1DInterpolator\n",
    "import matplotlib.pyplot as plt\n",
    "\n",
    "u_y = np.array(\n",
    "[(100000, -196.2940415015209), (110000, -103.7090822941733), (120000, 13.791983467728102), \n",
    " (130000, 150.32354712038529), (140000, 300.0), (150000, 456.9357334427741), \n",
    " (160000, 615.2451387849095), (170000, 769.0426073626077), (180000, 912.4425305120708), \n",
    " (190000, 1039.5592995695006), (200000, 1146.6567688625566), (210000, 1241.275883981712), \n",
    " (220000, 1334.5308572856504), (230000, 1432.1128285531624), (240000, 1531.983249843333), \n",
    " (250000, 1631.6887098203943), (260000, 1729.9999384279372), (270000, 1826.227688353349), \n",
    " (280000, 1921.731710805428), (290000, 2021.5849606132467), (300000, 2129.526794729129), \n",
    " (310000, 2233.2305757248723), (320000, 2311.6803186474867), (330000, 2356.2524255234966), \n",
    " (340000, 2387.366888764701), (350000, 2429.1048274962022), (360000, 2499.626890218608), \n",
    " (370000, 2612.9822156774767), (380000, 2766.4999740577014), (390000, 2907.342876184784), \n",
    " (400000, 2976.958008987681), (410000, 2984.8418908912945), (420000, 3000.2133346825117), \n",
    " (430000, 3072.2946071985752), (440000, 3163.523140623286), (450000, 3217.111630523897), \n",
    " (460000, 3236.3717122166304), (470000, 3291.3272473974002), (480000, 3434.6707198886857), \n",
    " (490000, 3611.577851531317), (500000, 3733.9108453381855), (510000, 3774.8817914281317), \n",
    " (520000, 3793.9870014880653), (530000, 3848.327925644581), (540000, 3934.4495001727046), \n",
    " (550000, 4023.6880261325523), (560000, 4095.198916129244), (570000, 4142.2803859913665), \n",
    " (580000, 4162.134384895589), (590000, 4174.256346571001), (600000, 4210.031402086732), \n",
    " (610000, 4283.934618571861), (620000, 4371.375600599834), (630000, 4444.357812704114), \n",
    " (640000, 4500.711755730153), (650000, 4555.9151801188655), (660000, 4618.958879392718), \n",
    " (670000, 4678.54217763008), (680000, 4720.787753185267), (690000, 4752.960534254824), \n",
    " (700000, 4800.639512674851), (710000, 4879.487815685128), (720000, 4964.326232528083), \n",
    " (730000, 5021.3479882104775), (740000, 5051.687985762398), (750000, 5094.764551060448), \n",
    " (760000, 5179.103851336002), (770000, 5267.8650523262495), (780000, 5304.511360541746), \n",
    " (790000, 5279.951974729595), (800000, 5250.942520175716), (810000, 5270.8320952179765), \n",
    " (820000, 5337.4999838380745), (830000, 5426.016212786224), (840000, 5514.414763873945), \n",
    " (850000, 5586.086980921798), (860000, 5628.398211497241), (870000, 5659.5606806436945), \n",
    " (880000, 5714.006373544878), (890000, 5802.682117475), (900000, 5883.059489732281), \n",
    " (910000, 5910.087472361603), (920000, 5898.399085055407), (930000, 5902.86606922961), \n",
    " (940000, 5960.57385312554), (950000, 6054.317169401872), (960000, 6157.210656236934), \n",
    " (970000, 6245.9856583129895), (980000, 6300.465740490168), (990000, 6310.103076399633), \n",
    " (1000000, 6300.789201352866), (1010000, 6306.05298723126), (1020000, 6330.92359116326), \n",
    " (1030000, 6349.6098170607165), (1040000, 6343.442313423734), (1050000, 6337.156166762502), \n",
    " (1060000, 6368.222478491959), (1070000, 6437.412551555299), (1080000, 6495.236172274472), \n",
    " (1090000, 6500.030735452649), (1100000, 6485.918209921648), (1110000, 6517.2031475941785), \n",
    " (1120000, 6608.96915612123), (1130000, 6690.427537505028), (1140000, 6692.516558884732), \n",
    " (1150000, 6637.684034954056), (1160000, 6595.999721237238), (1170000, 6606.866325140376), \n",
    " (1180000, 6640.339239319563), (1190000, 6659.582814603485), (1200000, 6657.993934610502), \n",
    " (1210000, 6649.088081971744), (1220000, 6644.046575489862), (1230000, 6646.26379922899), \n",
    " (1240000, 6657.567265694911), (1250000, 6676.842434537024), (1260000, 6700.492090574146), \n",
    " (1270000, 6724.518897614738), (1280000, 6743.7113889813145), (1290000, 6752.803776289019), \n",
    " (1300000, 6752.536867324852), (1310000, 6750.062932294076), (1320000, 6751.01993639146), \n",
    " (1330000, 6752.02517872621), (1340000, 6747.138738380322), (1350000, 6739.8703227876495), \n",
    " (1360000, 6746.500953373964), (1370000, 6779.932640040183), (1380000, 6825.175870289963), \n",
    " (1390000, 6856.252166047541), (1400000, 6861.268609698072), (1410000, 6852.5836808043605), \n",
    " (1420000, 6844.1614455502795), (1430000, 6843.134700131197), (1440000, 6853.098070467249), \n",
    " (1450000, 6873.477335306202), (1460000, 6894.590302875795), (1470000, 6906.236341919776), \n",
    " (1480000, 6906.484123178069), (1490000, 6898.835930978074), (1500000, 6889.447332862699), \n",
    " (1510000, 6891.750217934312), (1520000, 6919.202719966802), (1530000, 6963.995593289019), \n",
    " (1540000, 7000.606551112646), (1550000, 7010.654181870235), (1560000, 7004.263540529191), \n",
    " (1570000, 6997.780027132758), (1580000, 6997.647902911536), (1590000, 6999.879932764492), \n",
    " (1600000, 7000.766219223369), (1610000, 7000.364404404361), (1620000, 6999.860794943026), \n",
    " (1630000, 6999.820239461689), (1640000, 6999.978400427554), (1650000, 7000.054354956158), \n",
    " (1660000, 7000.030298082164), (1670000, 6999.991757326904), (1680000, 6999.9864276463195), \n",
    " (1690000, 6999.997445678717), (1700000, 7000.003797022601), (1710000, 7000.002464048843), \n",
    " (1720000, 6999.999556927054), (1730000, 6999.998987230106), (1740000, 6999.9997406203265), \n",
    " (1750000, 7000.000260529659), (1760000, 7000.000196733262), (1770000, 6999.99998060138), \n",
    " (1780000, 6999.999925304678), (1790000, 6999.999975725942), (1800000, 7000.00001749045), \n",
    " (1810000, 7000.000015459508), (1820000, 6999.999999629206), (1830000, 6999.999994556318), \n",
    " (1840000, 6999.999997843628), (1850000, 7000.00000114195), (1860000, 7000.0000011977445), \n",
    " (1870000, 7000.000000056484), (1880000, 6999.999999608222), (1890000, 6999.9999998153735), \n",
    " (1900000, 7000.000000071788), (1910000, 7000.000000091602), (1920000, 7000.000000010658), \n",
    " (1930000, 6999.999999972186), (1940000, 6999.999999984629), (1950000, 7000.000000004267), \n",
    " (1960000, 7000.00000000692), (1970000, 7000.000000001277), (1980000, 6999.999999998055), \n",
    " (1990000, 6999.9999999987485), (2000000, 7000.000000000232), (2010000, 7000.000000000517), \n",
    " (2020000, 7000.000000000131), (2030000, 6999.999999999866), (2040000, 6999.9999999999), \n",
    " (2050000, 7000.00000000001), (2060000, 7000.000000000038), (2070000, 7000.000000000012), \n",
    " (2080000, 6999.999999999991), (2090000, 6999.999999999992), (2100000, 7000.0), \n",
    " (2110000, 7000.000000000003), (2120000, 7000.000000000001), (2130000, 6999.999999999999), \n",
    " (2140000, 6999.999999999999), (2150000, 7000.0), (2160000, 7000.0), (2170000, 7000.0), \n",
    " (2180000, 7000.0), (2190000, 7000.0), (2200000, 7000.000000000001), (2210000, 7000.0), \n",
    " (2220000, 7000.0), (2230000, 7000.0), (2240000, 7000.0), (2250000, 7000.0), (2260000, 7000.0), \n",
    " (2270000, 7000.0), (2280000, 7000.0), (2290000, 7000.0), (2300000, 7000.0), (2310000, 7000.0), \n",
    " (2320000, 7000.0), (2330000, 7000.0), (2340000, 7000.0), (2350000, 7000.0), (2360000, 7000.0), \n",
    " (2370000, 7000.0), (2380000, 7000.0), (2390000, 7000.0), (2400000, 7000.0), (2410000, 7000.0), \n",
    " (2420000, 7000.0), (2430000, 7000.0), (2440000, 7000.0), (2450000, 7000.0), (2460000, 7000.0), \n",
    " (2470000, 7000.0), (2480000, 7000.0), (2490000, 7000.0), (2500000, 7000.0), (2510000, 7000.0), \n",
    " (2520000, 7000.0), (2530000, 7000.0), (2540000, 7000.0), (2550000, 7000.0), (2560000, 7000.0), \n",
    " (2570000, 7000.0), (2580000, 7000.0), (2590000, 7000.0), (2600000, 7000.0), (2610000, 7000.0), \n",
    " (2620000, 7000.0), (2630000, 7000.0), (2640000, 7000.0), (2650000, 7000.0), (2660000, 7000.0), \n",
    " (2670000, 7000.0), (2680000, 7000.0), (2690000, 7000.0), (2700000, 7000.0), (2710000, 7000.0), \n",
    " (2720000, 7000.0), (2730000, 7000.0), (2740000, 7000.0), (2750000, 7000.0), (2760000, 7000.0), \n",
    " (2770000, 7000.0), (2780000, 7000.0), (2790000, 7000.0), (2800000, 7000.0), (2810000, 7000.0), \n",
    " (2820000, 7000.0), (2830000, 7000.0), (2840000, 7000.0), (2850000, 7000.0), (2860000, 7000.0), \n",
    " (2870000, 7000.0), (2880000, 7000.0), (2890000, 7000.0), (2900000, 7000.0), (2910000, 7000.0), \n",
    " (2920000, 7000.0), (2930000, 7000.0), (2940000, 7000.0), (2950000, 7000.0), (2960000, 7000.0), \n",
    " (2970000, 7000.0), (2980000, 7000.0), (2990000, 7000.0), (3000000, 7000.0)])\n",
    "\n",
    "plt.plot(u_test, CubicSpline(u_y[:,0], u_y[:,1])(u_test), '--', label='spline')\n",
    "#plt.plot(u_test, Akima1DInterpolator(u, y)(u_test), '-', label='Akima1D')\n",
    "#plt.plot(u_test, PchipInterpolator(u, y)(u_test), '-', label='pchip')\n",
    "#plt.plot(u, y, 'o')\n",
    "print(CubicSpline(u, y)(90000))\n",
    "plt.legend()\n",
    "plt.show()"
   ]
  }
 ],
 "metadata": {
  "kernelspec": {
   "display_name": "Python 3 (ipykernel)",
   "language": "python",
   "name": "python3"
  },
  "language_info": {
   "codemirror_mode": {
    "name": "ipython",
    "version": 3
   },
   "file_extension": ".py",
   "mimetype": "text/x-python",
   "name": "python",
   "nbconvert_exporter": "python",
   "pygments_lexer": "ipython3",
   "version": "3.10.13"
  }
 },
 "nbformat": 4,
 "nbformat_minor": 5
}
