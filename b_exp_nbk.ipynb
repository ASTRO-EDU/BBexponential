{
 "cells": [
  {
   "cell_type": "code",
   "execution_count": 1,
   "id": "4066da48",
   "metadata": {},
   "outputs": [],
   "source": [
    "import astropy\n",
    "import numpy as np\n",
    "import scipy\n",
    "import matplotlib.pyplot as plt\n",
    "import time\n",
    "from astropy.stats import Events, bayesian_blocks"
   ]
  },
  {
   "cell_type": "code",
   "execution_count": 2,
   "id": "0c1992b7",
   "metadata": {},
   "outputs": [],
   "source": [
    "class ExponentialBlocks_Events(Events):\n",
    "    \n",
    "    def anti_N_k(self,N_k):\n",
    "        x = np.zeros(len(N_k))\n",
    "        x[-1]=N_k[-1]\n",
    "        for i in range(len(N_k)-1):\n",
    "            x[i] = N_k[i]-N_k[i+1]\n",
    "        return x\n",
    "    \n",
    "    def compute_a(self,T_k,N_k,S_k):\n",
    "        \"\"\"Computes as instructed by eq. C116 in Scargle (2013).\n",
    "\n",
    "        Parameters\n",
    "        ---------\n",
    "        N_k : array-like\n",
    "            number of events in blocks in receding order (from last to first)\n",
    "        T_k : array-like, float\n",
    "            length of the blocks in decreasing order\n",
    "        ---------\n",
    "\n",
    "        Returns\n",
    "        ---------\n",
    "        a : array-like\n",
    "            optimal parameter for each block identified by T_k\n",
    "        \"\"\"\n",
    "        a = np.ones_like(T_k,dtype=float)\n",
    "        f = 1\n",
    "        i = 1\n",
    "        #print(T_k,N_k,S_k)\n",
    "        #implementation of Newton's method to find optimal a\n",
    "        while i<100 and np.any(np.abs(f)>1e-8):\n",
    "            #Q_k defined as in C114 of Scargle (2013)\n",
    "            Q_k = np.exp(-a*T_k)/(1-np.exp(-a*T_k))\n",
    "            #f defined as in C109 of Scargle (2013)\n",
    "            f = (1/a) - T_k*Q_k + S_k\n",
    "            #f_prime defined as in C113 of Scargle (2013)\n",
    "            f_prime = -(1/(a*a)) + T_k*T_k*Q_k*(1+Q_k)\n",
    "            a -= np.divide(f,f_prime)\n",
    "            #print(i,max(np.abs(f)),a)\n",
    "            #print(f'a:{a}')\n",
    "            i += 1\n",
    "        #print(i,max(np.abs(f)))\n",
    "        return a\n",
    "    \n",
    "    def fitness(self,T_k,N_k):\n",
    "        #S_k defined as in C110 of Scargle (2013)\n",
    "        S_k = -(1/N_k)*(np.cumsum((T_k*self.anti_N_k(N_k))[::-1])[::-1])\n",
    "        a = self.compute_a(T_k,N_k,S_k)\n",
    "        # the log (to have additivity of the blocks) of C105 from Scargle (2013)\n",
    "        likelihood = N_k * np.log((a*N_k)/(1-np.exp(-a*T_k))) + a*N_k*S_k - N_k\n",
    "        return np.log(likelihood)\n",
    "    \n",
    "    def get_parameters(self,edge_l,edge_r,t,x):\n",
    "        T_k,N_k,S_k = self.get_T_k_N_k_S_k_from_edges(edge_l,edge_r,t,x)\n",
    "        a = self.compute_a(T_k,N_k,S_k)\n",
    "        gamma = np.divide(a*N_k,1-np.exp(-a*T_k))\n",
    "        return {'a':a[0],'gamma':gamma[0]}\n",
    "\n",
    "    def get_T_k_N_k_S_k_from_edges(self,edge_l,edge_r,t,x):\n",
    "        flagStart=0\n",
    "        flagEnd=0\n",
    "        t_end_index=0\n",
    "        for i,t_d in enumerate(t):\n",
    "            if edge_l<=t_d and t_d<=edge_r:\n",
    "                if flagStart==0:\n",
    "                    flagStart=1\n",
    "                    t_start_index=i\n",
    "            elif t_d>edge_r and flagEnd==0:\n",
    "                flagEnd=1\n",
    "                t_end_index=i\n",
    "        if t_end_index == 0:\n",
    "            t_end_index = len(t)\n",
    "        t_new = t[t_start_index:t_end_index]\n",
    "        x_new = x[t_start_index:t_end_index]\n",
    "        #print(t_new)\n",
    "        #print(x_new)\n",
    "        edges = np.concatenate([np.array([edge_l]), 0.5 * (t_new[1:] + t_new[:-1]), np.array([edge_r])])\n",
    "        #print(edges)\n",
    "        #print(len(edges))\n",
    "        block_length = t_new[-1] - edges\n",
    "        #print(block_length)\n",
    "        T_k = block_length[:-1] - block_length[-1]\n",
    "        N_k = np.cumsum(x_new[::-1])[::-1]\n",
    "        S_k = -(1/N_k)*(np.cumsum((T_k*self.anti_N_k(N_k))[::-1])[::-1])\n",
    "        return T_k,N_k,S_k"
   ]
  },
  {
   "cell_type": "code",
   "execution_count": 3,
   "id": "864d5be5",
   "metadata": {
    "scrolled": false
   },
   "outputs": [
    {
     "name": "stderr",
     "output_type": "stream",
     "text": [
      "/tmp/ipykernel_2962/3106553614.py:33: RuntimeWarning: overflow encountered in exp\n",
      "  Q_k = np.exp(-a*T_k)/(1-np.exp(-a*T_k))\n",
      "/tmp/ipykernel_2962/3106553614.py:33: RuntimeWarning: invalid value encountered in divide\n",
      "  Q_k = np.exp(-a*T_k)/(1-np.exp(-a*T_k))\n"
     ]
    },
    {
     "name": "stdout",
     "output_type": "stream",
     "text": [
      "time needed for execution was 0.014724969863891602 seconds\n",
      "[ 0.   0.5 14. ]\n",
      "{'a': nan, 'gamma': nan}\n",
      "{'a': 0.6663024624896873, 'gamma': 21834.774392607025}\n"
     ]
    },
    {
     "data": {
      "image/png": "[encoded data removed]",
      "text/plain": [
       "<Figure size 640x480 with 2 Axes>"
      ]
     },
     "metadata": {},
     "output_type": "display_data"
    }
   ],
   "source": [
    "t=np.arange(0,15)\n",
    "x=np.floor(np.power(2,t))\n",
    "fig, axs = plt.subplots(1, 2, sharey=True, tight_layout=True)\n",
    "axs[0].step(t, x)\n",
    "axs[1].step(t, x)\n",
    "t_start = time.time()\n",
    "xcoords = bayesian_blocks(t,x,fitness=ExponentialBlocks_Events)\n",
    "print(f'time needed for execution was {time.time()-t_start} seconds')\n",
    "print(xcoords)\n",
    "for xc in xcoords:\n",
    "    axs[0].axvline(x=xc, color='grey', alpha=0.3)\n",
    "fitn = ExponentialBlocks_Events()\n",
    "for i in range(len(xcoords)-1):\n",
    "    edge_l = xcoords[i]\n",
    "    edge_r = xcoords[i+1]\n",
    "    params = fitn.get_parameters(edge_l,edge_r,t,x)\n",
    "    print(params)\n",
    "    plot_t = np.linspace(edge_l,edge_r,1000)\n",
    "    plot_x = params['gamma'] * np.exp(params['a']*(plot_t - edge_r))\n",
    "    axs[0].plot(plot_t,plot_x)\n",
    "xcoords = bayesian_blocks(t,x,fitness='events')\n",
    "for xc in xcoords:\n",
    "    axs[1].axvline(x=xc, color='grey', alpha=0.3)"
   ]
  },
  {
   "cell_type": "code",
   "execution_count": 4,
   "id": "fe1db38c",
   "metadata": {},
   "outputs": [
    {
     "name": "stderr",
     "output_type": "stream",
     "text": [
      "/tmp/ipykernel_2962/3106553614.py:33: RuntimeWarning: overflow encountered in exp\n",
      "  Q_k = np.exp(-a*T_k)/(1-np.exp(-a*T_k))\n",
      "/tmp/ipykernel_2962/3106553614.py:33: RuntimeWarning: invalid value encountered in divide\n",
      "  Q_k = np.exp(-a*T_k)/(1-np.exp(-a*T_k))\n"
     ]
    },
    {
     "name": "stdout",
     "output_type": "stream",
     "text": [
      "time needed for execution was 0.0074634552001953125 seconds\n",
      "[0.  0.5 2. ]\n",
      "{'a': nan, 'gamma': nan}\n",
      "{'a': -0.8199554669213064, 'gamma': 1.6934223994907214}\n"
     ]
    },
    {
     "data": {
      "image/png": "[encoded data removed]",
      "text/plain": [
       "<Figure size 640x480 with 2 Axes>"
      ]
     },
     "metadata": {},
     "output_type": "display_data"
    }
   ],
   "source": [
    "t=np.arange(0,3)\n",
    "#x=np.floor(np.power(0.9,t)*6000)\n",
    "x = np.arange(0,3)+1\n",
    "fig, axs = plt.subplots(1, 2, sharey=True, tight_layout=True)\n",
    "axs[0].step(t, x)\n",
    "axs[1].step(t, x)\n",
    "t_start = time.time()\n",
    "xcoords = bayesian_blocks(t,x,fitness=ExponentialBlocks_Events)\n",
    "print(f'time needed for execution was {time.time()-t_start} seconds')\n",
    "print(xcoords)\n",
    "for xc in xcoords:\n",
    "    axs[0].axvline(x=xc, color='grey', alpha=0.3)\n",
    "fitn = ExponentialBlocks_Events()\n",
    "for i in range(len(xcoords)-1):\n",
    "    edge_l = xcoords[i]\n",
    "    edge_r = xcoords[i+1]\n",
    "    params = fitn.get_parameters(edge_l,edge_r,t,x)\n",
    "    print(params)\n",
    "    plot_t = np.linspace(edge_l,edge_r,1000)\n",
    "    plot_x = params['gamma'] * np.exp(params['a']*(plot_t - edge_r))\n",
    "    axs[0].plot(plot_t,plot_x)\n",
    "xcoords = bayesian_blocks(t,x,fitness='events')\n",
    "for xc in xcoords:\n",
    "    axs[1].axvline(x=xc, color='grey', alpha=0.3)"
   ]
  },
  {
   "cell_type": "code",
   "execution_count": null,
   "id": "abe65a94",
   "metadata": {},
   "outputs": [],
   "source": []
  }
 ],
 "metadata": {
  "kernelspec": {
   "display_name": "Python 3 (ipykernel)",
   "language": "python",
   "name": "python3"
  },
  "language_info": {
   "codemirror_mode": {
    "name": "ipython",
    "version": 3
   },
   "file_extension": ".py",
   "mimetype": "text/x-python",
   "name": "python",
   "nbconvert_exporter": "python",
   "pygments_lexer": "ipython3",
   "version": "3.10.13"
  }
 },
 "nbformat": 4,
 "nbformat_minor": 5
}
